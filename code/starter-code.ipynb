{
 "cells": [
  {
   "cell_type": "markdown",
   "metadata": {},
   "source": [
    "# Project 1: SAT & ACT Analysis"
   ]
  },
  {
   "cell_type": "markdown",
   "metadata": {},
   "source": [
    "The first markdown cell in a notebook is a great place to provide an overview of your entire project. You will likely want to at least state your\n",
    "\n",
    "## Problem Statement"
   ]
  },
  {
   "cell_type": "markdown",
   "metadata": {},
   "source": [
    "as well as an"
   ]
  },
  {
   "cell_type": "markdown",
   "metadata": {},
   "source": [
    "## Executive Summary\n",
    "\n",
    "If you want to, it's great to use relative links to direct your audience to various sections of a notebook. **HERE'S A DEMONSTRATION WITH THE CURRENT SECTION HEADERS**:\n",
    "\n",
    "### Contents:\n",
    "- [2017 Data Import & Cleaning](#Data-Import-and-Cleaning)\n",
    "- [2018 Data Import and Cleaning](#2018-Data-Import-and-Cleaning)\n",
    "- [Exploratory Data Analysis](#Exploratory-Data-Analysis)\n",
    "- [Data Visualization](#Visualize-the-data)\n",
    "- [Descriptive and Inferential Statistics](#Descriptive-and-Inferential-Statistics)\n",
    "- [Outside Research](#Outside-Research)\n",
    "- [Conclusions and Recommendations](#Conclusions-and-Recommendations)"
   ]
  },
  {
   "cell_type": "markdown",
   "metadata": {},
   "source": [
    "**If you combine your problem statement, executive summary, data dictionary, and conclusions/recommendations, you have an amazing README.md file that quickly aligns your audience to the contents of your project.** Don't forget to cite your data sources!"
   ]
  },
  {
   "cell_type": "markdown",
   "metadata": {},
   "source": [
    "*All libraries used should be added here*"
   ]
  },
  {
   "cell_type": "code",
   "execution_count": 231,
   "metadata": {},
   "outputs": [],
   "source": [
    "#Imports:\n",
    "import pandas as pd\n",
    "import numpy as np\n",
    "import scipy.stats as stats\n",
    "import matplotlib as plt\n",
    "import seaborn as sns\n",
    "import missingno as msno\n",
    "%matplotlib inline"
   ]
  },
  {
   "cell_type": "markdown",
   "metadata": {},
   "source": [
    "## 2017 Data Import and Cleaning"
   ]
  },
  {
   "cell_type": "markdown",
   "metadata": {},
   "source": [
    "#### 1. Read In SAT & ACT  Data\n",
    "\n",
    "Read in the `sat_2017.csv` and `act_2017.csv` files and assign them to appropriately named pandas dataframes."
   ]
  },
  {
   "cell_type": "code",
   "execution_count": 232,
   "metadata": {},
   "outputs": [],
   "source": [
    "#Code:\n",
    "sat_2017 = pd.read_csv(\"../data/sat_2017.csv\")\n",
    "act_2017 = pd.read_csv(\"../data/act_2017.csv\")"
   ]
  },
  {
   "cell_type": "markdown",
   "metadata": {},
   "source": [
    "#### 2. Display Data\n",
    "\n",
    "Print the first 10 rows of each dataframe to your jupyter notebook"
   ]
  },
  {
   "cell_type": "code",
   "execution_count": 233,
   "metadata": {},
   "outputs": [
    {
     "data": {
      "text/html": [
       "<div>\n",
       "<style scoped>\n",
       "    .dataframe tbody tr th:only-of-type {\n",
       "        vertical-align: middle;\n",
       "    }\n",
       "\n",
       "    .dataframe tbody tr th {\n",
       "        vertical-align: top;\n",
       "    }\n",
       "\n",
       "    .dataframe thead th {\n",
       "        text-align: right;\n",
       "    }\n",
       "</style>\n",
       "<table border=\"1\" class=\"dataframe\">\n",
       "  <thead>\n",
       "    <tr style=\"text-align: right;\">\n",
       "      <th></th>\n",
       "      <th>State</th>\n",
       "      <th>Participation</th>\n",
       "      <th>Evidence-Based Reading and Writing</th>\n",
       "      <th>Math</th>\n",
       "      <th>Total</th>\n",
       "    </tr>\n",
       "  </thead>\n",
       "  <tbody>\n",
       "    <tr>\n",
       "      <td>0</td>\n",
       "      <td>Alabama</td>\n",
       "      <td>5%</td>\n",
       "      <td>593</td>\n",
       "      <td>572</td>\n",
       "      <td>1165</td>\n",
       "    </tr>\n",
       "    <tr>\n",
       "      <td>1</td>\n",
       "      <td>Alaska</td>\n",
       "      <td>38%</td>\n",
       "      <td>547</td>\n",
       "      <td>533</td>\n",
       "      <td>1080</td>\n",
       "    </tr>\n",
       "    <tr>\n",
       "      <td>2</td>\n",
       "      <td>Arizona</td>\n",
       "      <td>30%</td>\n",
       "      <td>563</td>\n",
       "      <td>553</td>\n",
       "      <td>1116</td>\n",
       "    </tr>\n",
       "    <tr>\n",
       "      <td>3</td>\n",
       "      <td>Arkansas</td>\n",
       "      <td>3%</td>\n",
       "      <td>614</td>\n",
       "      <td>594</td>\n",
       "      <td>1208</td>\n",
       "    </tr>\n",
       "    <tr>\n",
       "      <td>4</td>\n",
       "      <td>California</td>\n",
       "      <td>53%</td>\n",
       "      <td>531</td>\n",
       "      <td>524</td>\n",
       "      <td>1055</td>\n",
       "    </tr>\n",
       "    <tr>\n",
       "      <td>5</td>\n",
       "      <td>Colorado</td>\n",
       "      <td>11%</td>\n",
       "      <td>606</td>\n",
       "      <td>595</td>\n",
       "      <td>1201</td>\n",
       "    </tr>\n",
       "    <tr>\n",
       "      <td>6</td>\n",
       "      <td>Connecticut</td>\n",
       "      <td>100%</td>\n",
       "      <td>530</td>\n",
       "      <td>512</td>\n",
       "      <td>1041</td>\n",
       "    </tr>\n",
       "    <tr>\n",
       "      <td>7</td>\n",
       "      <td>Delaware</td>\n",
       "      <td>100%</td>\n",
       "      <td>503</td>\n",
       "      <td>492</td>\n",
       "      <td>996</td>\n",
       "    </tr>\n",
       "    <tr>\n",
       "      <td>8</td>\n",
       "      <td>District of Columbia</td>\n",
       "      <td>100%</td>\n",
       "      <td>482</td>\n",
       "      <td>468</td>\n",
       "      <td>950</td>\n",
       "    </tr>\n",
       "    <tr>\n",
       "      <td>9</td>\n",
       "      <td>Florida</td>\n",
       "      <td>83%</td>\n",
       "      <td>520</td>\n",
       "      <td>497</td>\n",
       "      <td>1017</td>\n",
       "    </tr>\n",
       "  </tbody>\n",
       "</table>\n",
       "</div>"
      ],
      "text/plain": [
       "                  State Participation  Evidence-Based Reading and Writing  \\\n",
       "0               Alabama            5%                                 593   \n",
       "1                Alaska           38%                                 547   \n",
       "2               Arizona           30%                                 563   \n",
       "3              Arkansas            3%                                 614   \n",
       "4            California           53%                                 531   \n",
       "5              Colorado           11%                                 606   \n",
       "6           Connecticut          100%                                 530   \n",
       "7              Delaware          100%                                 503   \n",
       "8  District of Columbia          100%                                 482   \n",
       "9               Florida           83%                                 520   \n",
       "\n",
       "   Math  Total  \n",
       "0   572   1165  \n",
       "1   533   1080  \n",
       "2   553   1116  \n",
       "3   594   1208  \n",
       "4   524   1055  \n",
       "5   595   1201  \n",
       "6   512   1041  \n",
       "7   492    996  \n",
       "8   468    950  \n",
       "9   497   1017  "
      ]
     },
     "execution_count": 233,
     "metadata": {},
     "output_type": "execute_result"
    }
   ],
   "source": [
    "#Code:\n",
    "sat_2017.head(10)"
   ]
  },
  {
   "cell_type": "code",
   "execution_count": 234,
   "metadata": {},
   "outputs": [
    {
     "data": {
      "text/html": [
       "<div>\n",
       "<style scoped>\n",
       "    .dataframe tbody tr th:only-of-type {\n",
       "        vertical-align: middle;\n",
       "    }\n",
       "\n",
       "    .dataframe tbody tr th {\n",
       "        vertical-align: top;\n",
       "    }\n",
       "\n",
       "    .dataframe thead th {\n",
       "        text-align: right;\n",
       "    }\n",
       "</style>\n",
       "<table border=\"1\" class=\"dataframe\">\n",
       "  <thead>\n",
       "    <tr style=\"text-align: right;\">\n",
       "      <th></th>\n",
       "      <th>State</th>\n",
       "      <th>Participation</th>\n",
       "      <th>English</th>\n",
       "      <th>Math</th>\n",
       "      <th>Reading</th>\n",
       "      <th>Science</th>\n",
       "      <th>Composite</th>\n",
       "    </tr>\n",
       "  </thead>\n",
       "  <tbody>\n",
       "    <tr>\n",
       "      <td>0</td>\n",
       "      <td>National</td>\n",
       "      <td>60%</td>\n",
       "      <td>20.3</td>\n",
       "      <td>20.7</td>\n",
       "      <td>21.4</td>\n",
       "      <td>21.0</td>\n",
       "      <td>21.0</td>\n",
       "    </tr>\n",
       "    <tr>\n",
       "      <td>1</td>\n",
       "      <td>Alabama</td>\n",
       "      <td>100%</td>\n",
       "      <td>18.9</td>\n",
       "      <td>18.4</td>\n",
       "      <td>19.7</td>\n",
       "      <td>19.4</td>\n",
       "      <td>19.2</td>\n",
       "    </tr>\n",
       "    <tr>\n",
       "      <td>2</td>\n",
       "      <td>Alaska</td>\n",
       "      <td>65%</td>\n",
       "      <td>18.7</td>\n",
       "      <td>19.8</td>\n",
       "      <td>20.4</td>\n",
       "      <td>19.9</td>\n",
       "      <td>19.8</td>\n",
       "    </tr>\n",
       "    <tr>\n",
       "      <td>3</td>\n",
       "      <td>Arizona</td>\n",
       "      <td>62%</td>\n",
       "      <td>18.6</td>\n",
       "      <td>19.8</td>\n",
       "      <td>20.1</td>\n",
       "      <td>19.8</td>\n",
       "      <td>19.7</td>\n",
       "    </tr>\n",
       "    <tr>\n",
       "      <td>4</td>\n",
       "      <td>Arkansas</td>\n",
       "      <td>100%</td>\n",
       "      <td>18.9</td>\n",
       "      <td>19.0</td>\n",
       "      <td>19.7</td>\n",
       "      <td>19.5</td>\n",
       "      <td>19.4</td>\n",
       "    </tr>\n",
       "    <tr>\n",
       "      <td>5</td>\n",
       "      <td>California</td>\n",
       "      <td>31%</td>\n",
       "      <td>22.5</td>\n",
       "      <td>22.7</td>\n",
       "      <td>23.1</td>\n",
       "      <td>22.2</td>\n",
       "      <td>22.8</td>\n",
       "    </tr>\n",
       "    <tr>\n",
       "      <td>6</td>\n",
       "      <td>Colorado</td>\n",
       "      <td>100%</td>\n",
       "      <td>20.1</td>\n",
       "      <td>20.3</td>\n",
       "      <td>21.2</td>\n",
       "      <td>20.9</td>\n",
       "      <td>20.8</td>\n",
       "    </tr>\n",
       "    <tr>\n",
       "      <td>7</td>\n",
       "      <td>Connecticut</td>\n",
       "      <td>31%</td>\n",
       "      <td>25.5</td>\n",
       "      <td>24.6</td>\n",
       "      <td>25.6</td>\n",
       "      <td>24.6</td>\n",
       "      <td>25.2</td>\n",
       "    </tr>\n",
       "    <tr>\n",
       "      <td>8</td>\n",
       "      <td>Delaware</td>\n",
       "      <td>18%</td>\n",
       "      <td>24.1</td>\n",
       "      <td>23.4</td>\n",
       "      <td>24.8</td>\n",
       "      <td>23.6</td>\n",
       "      <td>24.1</td>\n",
       "    </tr>\n",
       "    <tr>\n",
       "      <td>9</td>\n",
       "      <td>District of Columbia</td>\n",
       "      <td>32%</td>\n",
       "      <td>24.4</td>\n",
       "      <td>23.5</td>\n",
       "      <td>24.9</td>\n",
       "      <td>23.5</td>\n",
       "      <td>24.2</td>\n",
       "    </tr>\n",
       "  </tbody>\n",
       "</table>\n",
       "</div>"
      ],
      "text/plain": [
       "                  State Participation  English  Math  Reading  Science  \\\n",
       "0              National           60%     20.3  20.7     21.4     21.0   \n",
       "1               Alabama          100%     18.9  18.4     19.7     19.4   \n",
       "2                Alaska           65%     18.7  19.8     20.4     19.9   \n",
       "3               Arizona           62%     18.6  19.8     20.1     19.8   \n",
       "4              Arkansas          100%     18.9  19.0     19.7     19.5   \n",
       "5            California           31%     22.5  22.7     23.1     22.2   \n",
       "6              Colorado          100%     20.1  20.3     21.2     20.9   \n",
       "7           Connecticut           31%     25.5  24.6     25.6     24.6   \n",
       "8              Delaware           18%     24.1  23.4     24.8     23.6   \n",
       "9  District of Columbia           32%     24.4  23.5     24.9     23.5   \n",
       "\n",
       "  Composite  \n",
       "0      21.0  \n",
       "1      19.2  \n",
       "2      19.8  \n",
       "3      19.7  \n",
       "4      19.4  \n",
       "5      22.8  \n",
       "6      20.8  \n",
       "7      25.2  \n",
       "8      24.1  \n",
       "9      24.2  "
      ]
     },
     "execution_count": 234,
     "metadata": {},
     "output_type": "execute_result"
    }
   ],
   "source": [
    "act_2017.head(10)"
   ]
  },
  {
   "cell_type": "markdown",
   "metadata": {},
   "source": [
    "#### 3. Verbally Describe Data\n",
    "\n",
    "Take your time looking through the data and thoroughly describe the data in the markdown cell below. "
   ]
  },
  {
   "cell_type": "code",
   "execution_count": 235,
   "metadata": {},
   "outputs": [
    {
     "data": {
      "text/plain": [
       "State                                 object\n",
       "Participation                         object\n",
       "Evidence-Based Reading and Writing     int64\n",
       "Math                                   int64\n",
       "Total                                  int64\n",
       "dtype: object"
      ]
     },
     "execution_count": 235,
     "metadata": {},
     "output_type": "execute_result"
    }
   ],
   "source": [
    "sat_2017.dtypes"
   ]
  },
  {
   "cell_type": "code",
   "execution_count": 236,
   "metadata": {},
   "outputs": [
    {
     "data": {
      "text/plain": [
       "State             object\n",
       "Participation     object\n",
       "English          float64\n",
       "Math             float64\n",
       "Reading          float64\n",
       "Science          float64\n",
       "Composite         object\n",
       "dtype: object"
      ]
     },
     "execution_count": 236,
     "metadata": {},
     "output_type": "execute_result"
    }
   ],
   "source": [
    "act_2017.dtypes"
   ]
  },
  {
   "cell_type": "markdown",
   "metadata": {},
   "source": [
    "Answer: The data are tables with string containing the states including DC and a National roundup. There is a participation rate in string form. There are also what appear to be mean scores for each subject area, including the cumulative total. "
   ]
  },
  {
   "cell_type": "markdown",
   "metadata": {},
   "source": [
    "#### 4a. Does the data look complete? "
   ]
  },
  {
   "cell_type": "markdown",
   "metadata": {},
   "source": [
    "Answer: Yes, given a lack of Null/NAN values."
   ]
  },
  {
   "cell_type": "code",
   "execution_count": 237,
   "metadata": {},
   "outputs": [
    {
     "data": {
      "text/plain": [
       "State                                 0\n",
       "Participation                         0\n",
       "Evidence-Based Reading and Writing    0\n",
       "Math                                  0\n",
       "Total                                 0\n",
       "dtype: int64"
      ]
     },
     "execution_count": 237,
     "metadata": {},
     "output_type": "execute_result"
    }
   ],
   "source": [
    "sat_2017.isnull().sum()"
   ]
  },
  {
   "cell_type": "code",
   "execution_count": 238,
   "metadata": {},
   "outputs": [
    {
     "data": {
      "text/plain": [
       "State            0\n",
       "Participation    0\n",
       "English          0\n",
       "Math             0\n",
       "Reading          0\n",
       "Science          0\n",
       "Composite        0\n",
       "dtype: int64"
      ]
     },
     "execution_count": 238,
     "metadata": {},
     "output_type": "execute_result"
    }
   ],
   "source": [
    "act_2017.isnull().sum()"
   ]
  },
  {
   "cell_type": "markdown",
   "metadata": {},
   "source": [
    "#### 4b. Are there any obvious issues with the observations?\n",
    "\n",
    "**What is the minimum *possible* value for each test/subtest? What is the maximum *possible* value?**\n",
    "\n",
    "Consider comparing any questionable values to the sources of your data:\n",
    "- [SAT](https://blog.collegevine.com/here-are-the-average-sat-scores-by-state/)\n",
    "- [ACT](https://blog.prepscholar.com/act-scores-by-state-averages-highs-and-lows)"
   ]
  },
  {
   "cell_type": "code",
   "execution_count": 239,
   "metadata": {},
   "outputs": [
    {
     "data": {
      "text/html": [
       "<div>\n",
       "<style scoped>\n",
       "    .dataframe tbody tr th:only-of-type {\n",
       "        vertical-align: middle;\n",
       "    }\n",
       "\n",
       "    .dataframe tbody tr th {\n",
       "        vertical-align: top;\n",
       "    }\n",
       "\n",
       "    .dataframe thead th {\n",
       "        text-align: right;\n",
       "    }\n",
       "</style>\n",
       "<table border=\"1\" class=\"dataframe\">\n",
       "  <thead>\n",
       "    <tr style=\"text-align: right;\">\n",
       "      <th></th>\n",
       "      <th>English</th>\n",
       "      <th>Math</th>\n",
       "      <th>Reading</th>\n",
       "      <th>Science</th>\n",
       "    </tr>\n",
       "  </thead>\n",
       "  <tbody>\n",
       "    <tr>\n",
       "      <td>count</td>\n",
       "      <td>52.000000</td>\n",
       "      <td>52.000000</td>\n",
       "      <td>52.000000</td>\n",
       "      <td>52.000000</td>\n",
       "    </tr>\n",
       "    <tr>\n",
       "      <td>mean</td>\n",
       "      <td>20.919231</td>\n",
       "      <td>21.173077</td>\n",
       "      <td>22.001923</td>\n",
       "      <td>21.040385</td>\n",
       "    </tr>\n",
       "    <tr>\n",
       "      <td>std</td>\n",
       "      <td>2.332132</td>\n",
       "      <td>1.963602</td>\n",
       "      <td>2.048672</td>\n",
       "      <td>3.151113</td>\n",
       "    </tr>\n",
       "    <tr>\n",
       "      <td>min</td>\n",
       "      <td>16.300000</td>\n",
       "      <td>18.000000</td>\n",
       "      <td>18.100000</td>\n",
       "      <td>2.300000</td>\n",
       "    </tr>\n",
       "    <tr>\n",
       "      <td>25%</td>\n",
       "      <td>19.000000</td>\n",
       "      <td>19.400000</td>\n",
       "      <td>20.475000</td>\n",
       "      <td>19.900000</td>\n",
       "    </tr>\n",
       "    <tr>\n",
       "      <td>50%</td>\n",
       "      <td>20.550000</td>\n",
       "      <td>20.900000</td>\n",
       "      <td>21.700000</td>\n",
       "      <td>21.150000</td>\n",
       "    </tr>\n",
       "    <tr>\n",
       "      <td>75%</td>\n",
       "      <td>23.300000</td>\n",
       "      <td>23.100000</td>\n",
       "      <td>24.125000</td>\n",
       "      <td>22.525000</td>\n",
       "    </tr>\n",
       "    <tr>\n",
       "      <td>max</td>\n",
       "      <td>25.500000</td>\n",
       "      <td>25.300000</td>\n",
       "      <td>26.000000</td>\n",
       "      <td>24.900000</td>\n",
       "    </tr>\n",
       "  </tbody>\n",
       "</table>\n",
       "</div>"
      ],
      "text/plain": [
       "         English       Math    Reading    Science\n",
       "count  52.000000  52.000000  52.000000  52.000000\n",
       "mean   20.919231  21.173077  22.001923  21.040385\n",
       "std     2.332132   1.963602   2.048672   3.151113\n",
       "min    16.300000  18.000000  18.100000   2.300000\n",
       "25%    19.000000  19.400000  20.475000  19.900000\n",
       "50%    20.550000  20.900000  21.700000  21.150000\n",
       "75%    23.300000  23.100000  24.125000  22.525000\n",
       "max    25.500000  25.300000  26.000000  24.900000"
      ]
     },
     "execution_count": 239,
     "metadata": {},
     "output_type": "execute_result"
    }
   ],
   "source": [
    "act_2017.describe()"
   ]
  },
  {
   "cell_type": "code",
   "execution_count": 240,
   "metadata": {},
   "outputs": [
    {
     "data": {
      "text/html": [
       "<div>\n",
       "<style scoped>\n",
       "    .dataframe tbody tr th:only-of-type {\n",
       "        vertical-align: middle;\n",
       "    }\n",
       "\n",
       "    .dataframe tbody tr th {\n",
       "        vertical-align: top;\n",
       "    }\n",
       "\n",
       "    .dataframe thead th {\n",
       "        text-align: right;\n",
       "    }\n",
       "</style>\n",
       "<table border=\"1\" class=\"dataframe\">\n",
       "  <thead>\n",
       "    <tr style=\"text-align: right;\">\n",
       "      <th></th>\n",
       "      <th>Evidence-Based Reading and Writing</th>\n",
       "      <th>Math</th>\n",
       "      <th>Total</th>\n",
       "    </tr>\n",
       "  </thead>\n",
       "  <tbody>\n",
       "    <tr>\n",
       "      <td>count</td>\n",
       "      <td>51.000000</td>\n",
       "      <td>51.000000</td>\n",
       "      <td>51.000000</td>\n",
       "    </tr>\n",
       "    <tr>\n",
       "      <td>mean</td>\n",
       "      <td>569.117647</td>\n",
       "      <td>547.627451</td>\n",
       "      <td>1126.098039</td>\n",
       "    </tr>\n",
       "    <tr>\n",
       "      <td>std</td>\n",
       "      <td>45.666901</td>\n",
       "      <td>84.909119</td>\n",
       "      <td>92.494812</td>\n",
       "    </tr>\n",
       "    <tr>\n",
       "      <td>min</td>\n",
       "      <td>482.000000</td>\n",
       "      <td>52.000000</td>\n",
       "      <td>950.000000</td>\n",
       "    </tr>\n",
       "    <tr>\n",
       "      <td>25%</td>\n",
       "      <td>533.500000</td>\n",
       "      <td>522.000000</td>\n",
       "      <td>1055.500000</td>\n",
       "    </tr>\n",
       "    <tr>\n",
       "      <td>50%</td>\n",
       "      <td>559.000000</td>\n",
       "      <td>548.000000</td>\n",
       "      <td>1107.000000</td>\n",
       "    </tr>\n",
       "    <tr>\n",
       "      <td>75%</td>\n",
       "      <td>613.000000</td>\n",
       "      <td>599.000000</td>\n",
       "      <td>1212.000000</td>\n",
       "    </tr>\n",
       "    <tr>\n",
       "      <td>max</td>\n",
       "      <td>644.000000</td>\n",
       "      <td>651.000000</td>\n",
       "      <td>1295.000000</td>\n",
       "    </tr>\n",
       "  </tbody>\n",
       "</table>\n",
       "</div>"
      ],
      "text/plain": [
       "       Evidence-Based Reading and Writing        Math        Total\n",
       "count                           51.000000   51.000000    51.000000\n",
       "mean                           569.117647  547.627451  1126.098039\n",
       "std                             45.666901   84.909119    92.494812\n",
       "min                            482.000000   52.000000   950.000000\n",
       "25%                            533.500000  522.000000  1055.500000\n",
       "50%                            559.000000  548.000000  1107.000000\n",
       "75%                            613.000000  599.000000  1212.000000\n",
       "max                            644.000000  651.000000  1295.000000"
      ]
     },
     "execution_count": 240,
     "metadata": {},
     "output_type": "execute_result"
    }
   ],
   "source": [
    "sat_2017.describe()"
   ]
  },
  {
   "cell_type": "code",
   "execution_count": null,
   "metadata": {},
   "outputs": [],
   "source": []
  },
  {
   "cell_type": "markdown",
   "metadata": {},
   "source": [
    "Answer:"
   ]
  },
  {
   "cell_type": "markdown",
   "metadata": {},
   "source": [
    "#### 4c. Fix any errors you identified\n",
    "\n",
    "**The data is available** so there's no need to guess or calculate anything. If you didn't find any errors, continue to the next step."
   ]
  },
  {
   "cell_type": "code",
   "execution_count": 241,
   "metadata": {},
   "outputs": [],
   "source": [
    "#code"
   ]
  },
  {
   "cell_type": "markdown",
   "metadata": {},
   "source": [
    "#### 5. What are your data types? \n",
    "Display the data types of each feature. "
   ]
  },
  {
   "cell_type": "code",
   "execution_count": 242,
   "metadata": {},
   "outputs": [
    {
     "data": {
      "text/plain": [
       "State             object\n",
       "Participation     object\n",
       "English          float64\n",
       "Math             float64\n",
       "Reading          float64\n",
       "Science          float64\n",
       "Composite         object\n",
       "dtype: object"
      ]
     },
     "execution_count": 242,
     "metadata": {},
     "output_type": "execute_result"
    }
   ],
   "source": [
    "#code\n",
    "act_2017.dtypes"
   ]
  },
  {
   "cell_type": "code",
   "execution_count": 243,
   "metadata": {},
   "outputs": [
    {
     "data": {
      "text/plain": [
       "State                                 object\n",
       "Participation                         object\n",
       "Evidence-Based Reading and Writing     int64\n",
       "Math                                   int64\n",
       "Total                                  int64\n",
       "dtype: object"
      ]
     },
     "execution_count": 243,
     "metadata": {},
     "output_type": "execute_result"
    }
   ],
   "source": [
    "sat_2017.dtypes"
   ]
  },
  {
   "cell_type": "markdown",
   "metadata": {},
   "source": [
    "What did you learn?\n",
    "- Do any of them seem odd?  \n",
    "- Which ones are not as they should be?  "
   ]
  },
  {
   "cell_type": "markdown",
   "metadata": {},
   "source": [
    "Answer: I will need to convert the percenage columns into scaled 0-1.0 decimals from strings. Composite score of SATs is an object which means there's some strings in there."
   ]
  },
  {
   "cell_type": "markdown",
   "metadata": {},
   "source": [
    "#### 6. Fix Incorrect Data Types\n",
    "Based on what you discovered above, use appropriate methods to re-type incorrectly typed data.\n",
    "- Define a function that will allow you to convert participation rates to an appropriate numeric type. Use `map` or `apply` to change these columns in each dataframe."
   ]
  },
  {
   "cell_type": "code",
   "execution_count": 244,
   "metadata": {},
   "outputs": [],
   "source": [
    "#define a function to take a string with a number\n",
    "#followed by a % sign, strip the % and convert it to\n",
    "#an int\n",
    "def str_percentage_to_int(string):\n",
    "    return(int(string.replace(\"%\",\"\")))\n",
    "    "
   ]
  },
  {
   "cell_type": "code",
   "execution_count": 245,
   "metadata": {},
   "outputs": [
    {
     "data": {
      "text/html": [
       "<div>\n",
       "<style scoped>\n",
       "    .dataframe tbody tr th:only-of-type {\n",
       "        vertical-align: middle;\n",
       "    }\n",
       "\n",
       "    .dataframe tbody tr th {\n",
       "        vertical-align: top;\n",
       "    }\n",
       "\n",
       "    .dataframe thead th {\n",
       "        text-align: right;\n",
       "    }\n",
       "</style>\n",
       "<table border=\"1\" class=\"dataframe\">\n",
       "  <thead>\n",
       "    <tr style=\"text-align: right;\">\n",
       "      <th></th>\n",
       "      <th>State</th>\n",
       "      <th>Participation</th>\n",
       "      <th>English</th>\n",
       "      <th>Math</th>\n",
       "      <th>Reading</th>\n",
       "      <th>Science</th>\n",
       "      <th>Composite</th>\n",
       "    </tr>\n",
       "  </thead>\n",
       "  <tbody>\n",
       "    <tr>\n",
       "      <td>0</td>\n",
       "      <td>National</td>\n",
       "      <td>60</td>\n",
       "      <td>20.3</td>\n",
       "      <td>20.7</td>\n",
       "      <td>21.4</td>\n",
       "      <td>21.0</td>\n",
       "      <td>21.0</td>\n",
       "    </tr>\n",
       "    <tr>\n",
       "      <td>1</td>\n",
       "      <td>Alabama</td>\n",
       "      <td>100</td>\n",
       "      <td>18.9</td>\n",
       "      <td>18.4</td>\n",
       "      <td>19.7</td>\n",
       "      <td>19.4</td>\n",
       "      <td>19.2</td>\n",
       "    </tr>\n",
       "    <tr>\n",
       "      <td>2</td>\n",
       "      <td>Alaska</td>\n",
       "      <td>65</td>\n",
       "      <td>18.7</td>\n",
       "      <td>19.8</td>\n",
       "      <td>20.4</td>\n",
       "      <td>19.9</td>\n",
       "      <td>19.8</td>\n",
       "    </tr>\n",
       "    <tr>\n",
       "      <td>3</td>\n",
       "      <td>Arizona</td>\n",
       "      <td>62</td>\n",
       "      <td>18.6</td>\n",
       "      <td>19.8</td>\n",
       "      <td>20.1</td>\n",
       "      <td>19.8</td>\n",
       "      <td>19.7</td>\n",
       "    </tr>\n",
       "    <tr>\n",
       "      <td>4</td>\n",
       "      <td>Arkansas</td>\n",
       "      <td>100</td>\n",
       "      <td>18.9</td>\n",
       "      <td>19.0</td>\n",
       "      <td>19.7</td>\n",
       "      <td>19.5</td>\n",
       "      <td>19.4</td>\n",
       "    </tr>\n",
       "  </tbody>\n",
       "</table>\n",
       "</div>"
      ],
      "text/plain": [
       "      State  Participation  English  Math  Reading  Science Composite\n",
       "0  National             60     20.3  20.7     21.4     21.0      21.0\n",
       "1   Alabama            100     18.9  18.4     19.7     19.4      19.2\n",
       "2    Alaska             65     18.7  19.8     20.4     19.9      19.8\n",
       "3   Arizona             62     18.6  19.8     20.1     19.8      19.7\n",
       "4  Arkansas            100     18.9  19.0     19.7     19.5      19.4"
      ]
     },
     "execution_count": 245,
     "metadata": {},
     "output_type": "execute_result"
    }
   ],
   "source": [
    "act_2017['Participation'] = act_2017['Participation'].apply(str_percentage_to_int)\n",
    "act_2017.head()"
   ]
  },
  {
   "cell_type": "code",
   "execution_count": 246,
   "metadata": {},
   "outputs": [
    {
     "data": {
      "text/html": [
       "<div>\n",
       "<style scoped>\n",
       "    .dataframe tbody tr th:only-of-type {\n",
       "        vertical-align: middle;\n",
       "    }\n",
       "\n",
       "    .dataframe tbody tr th {\n",
       "        vertical-align: top;\n",
       "    }\n",
       "\n",
       "    .dataframe thead th {\n",
       "        text-align: right;\n",
       "    }\n",
       "</style>\n",
       "<table border=\"1\" class=\"dataframe\">\n",
       "  <thead>\n",
       "    <tr style=\"text-align: right;\">\n",
       "      <th></th>\n",
       "      <th>State</th>\n",
       "      <th>Participation</th>\n",
       "      <th>Evidence-Based Reading and Writing</th>\n",
       "      <th>Math</th>\n",
       "      <th>Total</th>\n",
       "    </tr>\n",
       "  </thead>\n",
       "  <tbody>\n",
       "    <tr>\n",
       "      <td>0</td>\n",
       "      <td>Alabama</td>\n",
       "      <td>5</td>\n",
       "      <td>593</td>\n",
       "      <td>572</td>\n",
       "      <td>1165</td>\n",
       "    </tr>\n",
       "    <tr>\n",
       "      <td>1</td>\n",
       "      <td>Alaska</td>\n",
       "      <td>38</td>\n",
       "      <td>547</td>\n",
       "      <td>533</td>\n",
       "      <td>1080</td>\n",
       "    </tr>\n",
       "    <tr>\n",
       "      <td>2</td>\n",
       "      <td>Arizona</td>\n",
       "      <td>30</td>\n",
       "      <td>563</td>\n",
       "      <td>553</td>\n",
       "      <td>1116</td>\n",
       "    </tr>\n",
       "    <tr>\n",
       "      <td>3</td>\n",
       "      <td>Arkansas</td>\n",
       "      <td>3</td>\n",
       "      <td>614</td>\n",
       "      <td>594</td>\n",
       "      <td>1208</td>\n",
       "    </tr>\n",
       "    <tr>\n",
       "      <td>4</td>\n",
       "      <td>California</td>\n",
       "      <td>53</td>\n",
       "      <td>531</td>\n",
       "      <td>524</td>\n",
       "      <td>1055</td>\n",
       "    </tr>\n",
       "  </tbody>\n",
       "</table>\n",
       "</div>"
      ],
      "text/plain": [
       "        State  Participation  Evidence-Based Reading and Writing  Math  Total\n",
       "0     Alabama              5                                 593   572   1165\n",
       "1      Alaska             38                                 547   533   1080\n",
       "2     Arizona             30                                 563   553   1116\n",
       "3    Arkansas              3                                 614   594   1208\n",
       "4  California             53                                 531   524   1055"
      ]
     },
     "execution_count": 246,
     "metadata": {},
     "output_type": "execute_result"
    }
   ],
   "source": [
    "sat_2017['Participation'] = sat_2017['Participation'].apply(str_percentage_to_int)\n",
    "sat_2017.head()"
   ]
  },
  {
   "cell_type": "markdown",
   "metadata": {},
   "source": [
    "- Fix any individual values preventing other columns from being the appropriate type."
   ]
  },
  {
   "cell_type": "code",
   "execution_count": 247,
   "metadata": {},
   "outputs": [
    {
     "name": "stdout",
     "output_type": "stream",
     "text": [
      "51: 20.2x\n"
     ]
    }
   ],
   "source": [
    "#code adapted from Cameron's tutorial on cleaning data\n",
    "\n",
    "for idx, val in act_2017['Composite'].iteritems():\n",
    "    if type(val) != float:\n",
    "        try:\n",
    "            act_2017.loc[idx, 'Composite'] = float(val)\n",
    "        except:\n",
    "            print(f'{idx}: {val}')"
   ]
  },
  {
   "cell_type": "code",
   "execution_count": 248,
   "metadata": {},
   "outputs": [],
   "source": [
    "act_2017.loc[51, 'Composite'] = 20.2  "
   ]
  },
  {
   "cell_type": "code",
   "execution_count": 249,
   "metadata": {},
   "outputs": [
    {
     "data": {
      "text/plain": [
       "float"
      ]
     },
     "execution_count": 249,
     "metadata": {},
     "output_type": "execute_result"
    }
   ],
   "source": [
    "type(act_2017.loc[51, 'Composite'])"
   ]
  },
  {
   "cell_type": "code",
   "execution_count": 250,
   "metadata": {},
   "outputs": [],
   "source": [
    "#code adapted from Cameron's tutorial on cleaning data\n",
    "#check again!\n",
    "\n",
    "for idx, val in act_2017['Composite'].iteritems():\n",
    "    if type(val) != float:\n",
    "        try:\n",
    "            act_2017.loc[idx, 'Composite'] = float(val)\n",
    "        except:\n",
    "            print(f'{idx}: {val}')"
   ]
  },
  {
   "cell_type": "code",
   "execution_count": 251,
   "metadata": {},
   "outputs": [
    {
     "data": {
      "text/plain": [
       "State             object\n",
       "Participation      int64\n",
       "English          float64\n",
       "Math             float64\n",
       "Reading          float64\n",
       "Science          float64\n",
       "Composite         object\n",
       "dtype: object"
      ]
     },
     "execution_count": 251,
     "metadata": {},
     "output_type": "execute_result"
    }
   ],
   "source": [
    "act_2017.dtypes\n",
    "\n",
    "#something didn't work!"
   ]
  },
  {
   "cell_type": "code",
   "execution_count": 252,
   "metadata": {
    "scrolled": true
   },
   "outputs": [],
   "source": [
    "#cast the whole column using .astype\n",
    "act_2017['Composite'] = act_2017['Composite'].astype(dtype='float64')"
   ]
  },
  {
   "cell_type": "code",
   "execution_count": 253,
   "metadata": {},
   "outputs": [
    {
     "data": {
      "text/plain": [
       "State             object\n",
       "Participation      int64\n",
       "English          float64\n",
       "Math             float64\n",
       "Reading          float64\n",
       "Science          float64\n",
       "Composite        float64\n",
       "dtype: object"
      ]
     },
     "execution_count": 253,
     "metadata": {},
     "output_type": "execute_result"
    }
   ],
   "source": [
    "act_2017.dtypes"
   ]
  },
  {
   "cell_type": "markdown",
   "metadata": {},
   "source": [
    "- Finish your data modifications by making sure the columns are now typed appropriately."
   ]
  },
  {
   "cell_type": "code",
   "execution_count": 254,
   "metadata": {},
   "outputs": [],
   "source": [
    "#code\n",
    "act_2017.columns = act_2017.columns.str.lower()\n",
    "sat_2017.columns = sat_2017.columns.str.lower()"
   ]
  },
  {
   "cell_type": "code",
   "execution_count": 255,
   "metadata": {},
   "outputs": [
    {
     "data": {
      "text/plain": [
       "Index(['state', 'participation', 'english', 'math', 'reading', 'science',\n",
       "       'composite'],\n",
       "      dtype='object')"
      ]
     },
     "execution_count": 255,
     "metadata": {},
     "output_type": "execute_result"
    }
   ],
   "source": [
    "act_2017.columns"
   ]
  },
  {
   "cell_type": "code",
   "execution_count": 256,
   "metadata": {},
   "outputs": [
    {
     "data": {
      "text/plain": [
       "Index(['state', 'participation', 'evidence-based reading and writing', 'math',\n",
       "       'total'],\n",
       "      dtype='object')"
      ]
     },
     "execution_count": 256,
     "metadata": {},
     "output_type": "execute_result"
    }
   ],
   "source": [
    "sat_2017.columns"
   ]
  },
  {
   "cell_type": "markdown",
   "metadata": {},
   "source": [
    "- Display the data types again to confirm they are correct."
   ]
  },
  {
   "cell_type": "code",
   "execution_count": 257,
   "metadata": {},
   "outputs": [
    {
     "data": {
      "text/plain": [
       "state             object\n",
       "participation      int64\n",
       "english          float64\n",
       "math             float64\n",
       "reading          float64\n",
       "science          float64\n",
       "composite        float64\n",
       "dtype: object"
      ]
     },
     "execution_count": 257,
     "metadata": {},
     "output_type": "execute_result"
    }
   ],
   "source": [
    "#Code:\n",
    "act_2017.dtypes"
   ]
  },
  {
   "cell_type": "code",
   "execution_count": 258,
   "metadata": {},
   "outputs": [
    {
     "data": {
      "text/plain": [
       "state                                 object\n",
       "participation                          int64\n",
       "evidence-based reading and writing     int64\n",
       "math                                   int64\n",
       "total                                  int64\n",
       "dtype: object"
      ]
     },
     "execution_count": 258,
     "metadata": {},
     "output_type": "execute_result"
    }
   ],
   "source": [
    "sat_2017.dtypes"
   ]
  },
  {
   "cell_type": "markdown",
   "metadata": {},
   "source": [
    "#### 7. Rename Columns\n",
    "Change the names of the columns to more expressive names so that you can tell the difference the SAT columns and the ACT columns. Your solution should map all column names being changed at once (no repeated singular name-changes). **We will be combining these data with some of the data from 2018, and so you should name columns in an appropriate way**.\n",
    "\n",
    "**Guidelines**:\n",
    "- Column names should be all lowercase (you will thank yourself when you start pushing data to SQL later in the course)\n",
    "- Column names should not contain spaces (underscores will suffice--this allows for using the `df.column_name` method to access columns in addition to `df['column_name']`.\n",
    "- Column names should be unique and informative (the only feature that we actually share between dataframes is the state)."
   ]
  },
  {
   "cell_type": "code",
   "execution_count": 259,
   "metadata": {},
   "outputs": [],
   "source": [
    "#remap the column names to allow for future comingling\n",
    "# of data and easier readability\n",
    "act_2017.rename(columns={\n",
    "    'state': 'state',\n",
    "    'participation': 'act_participation_rate_2017',\n",
    "    'english':'act_english_2017',\n",
    "    'math':'act_math_2017',\n",
    "    'reading':'act_reading_2017',\n",
    "    'science':'act_science_2017',\n",
    "    'composite':'act_composite_2017'\n",
    "}, inplace=True)\n",
    "\n",
    "sat_2017.rename(columns={\n",
    "    'state':'state',\n",
    "    'participation':'sat_participation_rate_2017',\n",
    "    'evidence-based reading and writing':'sat_reading_writing_2017',\n",
    "    'math':'sat_math_2017',\n",
    "    'total':'sat_composite_2017'\n",
    "}, inplace=True)    "
   ]
  },
  {
   "cell_type": "code",
   "execution_count": 260,
   "metadata": {},
   "outputs": [
    {
     "data": {
      "text/plain": [
       "Index(['state', 'act_participation_rate_2017', 'act_english_2017',\n",
       "       'act_math_2017', 'act_reading_2017', 'act_science_2017',\n",
       "       'act_composite_2017'],\n",
       "      dtype='object')"
      ]
     },
     "execution_count": 260,
     "metadata": {},
     "output_type": "execute_result"
    }
   ],
   "source": [
    "act_2017.columns"
   ]
  },
  {
   "cell_type": "code",
   "execution_count": 261,
   "metadata": {},
   "outputs": [
    {
     "data": {
      "text/plain": [
       "Index(['state', 'sat_participation_rate_2017', 'sat_reading_writing_2017',\n",
       "       'sat_math_2017', 'sat_composite_2017'],\n",
       "      dtype='object')"
      ]
     },
     "execution_count": 261,
     "metadata": {},
     "output_type": "execute_result"
    }
   ],
   "source": [
    "sat_2017.columns"
   ]
  },
  {
   "cell_type": "markdown",
   "metadata": {},
   "source": [
    "#### 8. Create a data dictionary\n",
    "\n",
    "Now that we've fixed our data, and given it appropriate names, let's create a [data dictionary](http://library.ucmerced.edu/node/10249). \n",
    "\n",
    "A data dictionary provides a quick overview of features/variables/columns, alongside data types and descriptions. The more descriptive you can be, the more useful this document is.\n",
    "\n",
    "Example of a Fictional Data Dictionary Entry: \n",
    "\n",
    "|Feature|Type|Dataset|Description|\n",
    "|---|---|---|---|\n",
    "|**county_pop**|*integer*|2010 census|The population of the county (units in thousands, where 2.5 represents 2500 people).| \n",
    "|**per_poverty**|*float*|2010 census|The percent of the county over the age of 18 living below the 200% of official US poverty rate (units percent to two decimal places 98.10 means 98.1%)|\n",
    "\n",
    "[Here's a quick link to a short guide for formatting markdown in Jupyter notebooks](https://jupyter-notebook.readthedocs.io/en/stable/examples/Notebook/Working%20With%20Markdown%20Cells.html).\n",
    "\n",
    "Provided is the skeleton for formatting a markdown table, with columns headers that will help you create a data dictionary to quickly summarize your data, as well as some examples. **This would be a great thing to copy and paste into your custom README for this project.**"
   ]
  },
  {
   "cell_type": "markdown",
   "metadata": {},
   "source": [
    "|Feature|Type|Dataset|Description|\n",
    "|---|---|---|---|\n",
    "|column name|int/float/object|ACT/SAT|This is an example|\n",
    "state|object|both|The name of the state that the data refers to\n",
    "act_participation_rate_2017|float|ACT|The percentage rate of participation\n",
    "act_english_2017|float|ACT|The average score for the English subtest in 2017\n",
    "act_math_2017|float|ACT|The average score for the Math subtest in 2017\n",
    "\n",
    "    'reading':'act_reading_2017',\n",
    "    'science':'act_science_2017',\n",
    "    'composite':'act_composite_2017'\n",
    "        'state':'state',\n",
    "    'participation':'sat_participation_rate_2017',\n",
    "    'evidence-based reading and writing':'sat_reading_writing_2017',\n",
    "    'math':'sat_math_2017',\n",
    "    'total':'sat_composite_2017'\n"
   ]
  },
  {
   "cell_type": "markdown",
   "metadata": {},
   "source": [
    "#### 9. Drop unnecessary rows\n",
    "\n",
    "One of our dataframes contains an extra row. Identify and remove this from the dataframe."
   ]
  },
  {
   "cell_type": "code",
   "execution_count": 262,
   "metadata": {},
   "outputs": [],
   "source": [
    "#code\n",
    "act_2017.drop([0], inplace=True)"
   ]
  },
  {
   "cell_type": "markdown",
   "metadata": {},
   "source": [
    "#### 10. Merge Dataframes\n",
    "\n",
    "Join the 2017 ACT and SAT dataframes using the state in each dataframe as the key. Assign this to a new variable."
   ]
  },
  {
   "cell_type": "code",
   "execution_count": 263,
   "metadata": {},
   "outputs": [],
   "source": [
    "#Code:\n",
    "combined_2017 = act_2017.merge(sat_2017,left_on='state', right_on='state')"
   ]
  },
  {
   "cell_type": "markdown",
   "metadata": {},
   "source": [
    "#### 11. Save your cleaned, merged dataframe\n",
    "\n",
    "Use a relative path to save out your data as `combined_2017.csv`."
   ]
  },
  {
   "cell_type": "code",
   "execution_count": 264,
   "metadata": {},
   "outputs": [],
   "source": [
    "#code\n",
    "combined_2017.to_csv(\"../data/combined_2017.csv\", index=False)"
   ]
  },
  {
   "cell_type": "markdown",
   "metadata": {},
   "source": [
    "## 2018 Data Import and Cleaning"
   ]
  },
  {
   "cell_type": "markdown",
   "metadata": {},
   "source": [
    "Links to the 2018 ACT and SAT data are provided in the README. These data live in PDFs, and so you'll get to enjoy practicing some *manual* data collection. Save these data as a CSV in your `data` directory, and import, explore, and clean these data in the same way you did above. **Make sure you comment on your steps so it is clear *why* you are doing each process**."
   ]
  },
  {
   "cell_type": "code",
   "execution_count": 265,
   "metadata": {},
   "outputs": [],
   "source": [
    "act_2018 = pd.read_csv(\"../data/act_2018.csv\")\n",
    "sat_2018 = pd.read_csv(\"../data/sat_2018.csv\")"
   ]
  },
  {
   "cell_type": "code",
   "execution_count": 266,
   "metadata": {},
   "outputs": [
    {
     "data": {
      "text/html": [
       "<div>\n",
       "<style scoped>\n",
       "    .dataframe tbody tr th:only-of-type {\n",
       "        vertical-align: middle;\n",
       "    }\n",
       "\n",
       "    .dataframe tbody tr th {\n",
       "        vertical-align: top;\n",
       "    }\n",
       "\n",
       "    .dataframe thead th {\n",
       "        text-align: right;\n",
       "    }\n",
       "</style>\n",
       "<table border=\"1\" class=\"dataframe\">\n",
       "  <thead>\n",
       "    <tr style=\"text-align: right;\">\n",
       "      <th></th>\n",
       "      <th>State</th>\n",
       "      <th>Participation</th>\n",
       "      <th>Composite</th>\n",
       "    </tr>\n",
       "  </thead>\n",
       "  <tbody>\n",
       "    <tr>\n",
       "      <td>0</td>\n",
       "      <td>Alabama</td>\n",
       "      <td>100%</td>\n",
       "      <td>19.1</td>\n",
       "    </tr>\n",
       "    <tr>\n",
       "      <td>1</td>\n",
       "      <td>Alaska</td>\n",
       "      <td>33%</td>\n",
       "      <td>20.8</td>\n",
       "    </tr>\n",
       "    <tr>\n",
       "      <td>2</td>\n",
       "      <td>Arizona</td>\n",
       "      <td>66%</td>\n",
       "      <td>19.2</td>\n",
       "    </tr>\n",
       "    <tr>\n",
       "      <td>3</td>\n",
       "      <td>Arkansas</td>\n",
       "      <td>100%</td>\n",
       "      <td>19.4</td>\n",
       "    </tr>\n",
       "    <tr>\n",
       "      <td>4</td>\n",
       "      <td>California</td>\n",
       "      <td>27%</td>\n",
       "      <td>22.7</td>\n",
       "    </tr>\n",
       "  </tbody>\n",
       "</table>\n",
       "</div>"
      ],
      "text/plain": [
       "        State Participation  Composite\n",
       "0     Alabama          100%       19.1\n",
       "1      Alaska           33%       20.8\n",
       "2     Arizona           66%       19.2\n",
       "3    Arkansas          100%       19.4\n",
       "4  California           27%       22.7"
      ]
     },
     "execution_count": 266,
     "metadata": {},
     "output_type": "execute_result"
    }
   ],
   "source": [
    "act_2018.head()"
   ]
  },
  {
   "cell_type": "code",
   "execution_count": 267,
   "metadata": {},
   "outputs": [],
   "source": [
    "#convert participation rates into ints\n",
    "act_2018['Participation'] = act_2018['Participation'].apply(str_percentage_to_int)"
   ]
  },
  {
   "cell_type": "code",
   "execution_count": 268,
   "metadata": {},
   "outputs": [],
   "source": [
    "#chance column names to lowercase and co-existence with other columns\n",
    "act_2018.rename(columns={\n",
    "    'State': 'state',\n",
    "    'Participation': 'act_participation_rate_2018',\n",
    "    'Composite':'act_composite_2018'\n",
    "}, inplace=True)\n",
    "\n"
   ]
  },
  {
   "cell_type": "code",
   "execution_count": 269,
   "metadata": {},
   "outputs": [
    {
     "data": {
      "text/plain": [
       "state                           object\n",
       "act_participation_rate_2018      int64\n",
       "act_composite_2018             float64\n",
       "dtype: object"
      ]
     },
     "execution_count": 269,
     "metadata": {},
     "output_type": "execute_result"
    }
   ],
   "source": [
    "#check datatypes - all looks good!\n",
    "act_2018.dtypes"
   ]
  },
  {
   "cell_type": "code",
   "execution_count": 270,
   "metadata": {},
   "outputs": [
    {
     "data": {
      "text/plain": [
       "(52, 3)"
      ]
     },
     "execution_count": 270,
     "metadata": {},
     "output_type": "execute_result"
    }
   ],
   "source": [
    "act_2018.head()\n",
    "act_2018.shape"
   ]
  },
  {
   "cell_type": "code",
   "execution_count": 271,
   "metadata": {
    "scrolled": true
   },
   "outputs": [
    {
     "data": {
      "text/plain": [
       "Maine                   2\n",
       "North Carolina          1\n",
       "Massachusetts           1\n",
       "Pennsylvania            1\n",
       "Georgia                 1\n",
       "Kansas                  1\n",
       "Michigan                1\n",
       "New Hampshire           1\n",
       "Illinois                1\n",
       "New York                1\n",
       "Connecticut             1\n",
       "Indiana                 1\n",
       "Idaho                   1\n",
       "Oregon                  1\n",
       "Oklahoma                1\n",
       "South Dakota            1\n",
       "Mississippi             1\n",
       "Nevada                  1\n",
       "Florida                 1\n",
       "North Dakota            1\n",
       "Utah                    1\n",
       "Hawaii                  1\n",
       "Colorado                1\n",
       "California              1\n",
       "Washington              1\n",
       "Virginia                1\n",
       "Texas                   1\n",
       "Maryland                1\n",
       "Delaware                1\n",
       "Ohio                    1\n",
       "Iowa                    1\n",
       "Arkansas                1\n",
       "Missouri                1\n",
       "Montana                 1\n",
       "Tennessee               1\n",
       "Louisiana               1\n",
       "Alaska                  1\n",
       "District of columbia    1\n",
       "Rhode Island            1\n",
       "Minnesota               1\n",
       "Vermont                 1\n",
       "New Mexico              1\n",
       "Arizona                 1\n",
       "Nebraska                1\n",
       "New Jersey              1\n",
       "Wyoming                 1\n",
       "West Virginia           1\n",
       "Wisconsin               1\n",
       "South Carolina          1\n",
       "Alabama                 1\n",
       "Kentucky                1\n",
       "Name: state, dtype: int64"
      ]
     },
     "execution_count": 271,
     "metadata": {},
     "output_type": "execute_result"
    }
   ],
   "source": [
    "act_2018['state'].value_counts()\n",
    "#There are two Maines!"
   ]
  },
  {
   "cell_type": "code",
   "execution_count": 272,
   "metadata": {},
   "outputs": [
    {
     "data": {
      "text/html": [
       "<div>\n",
       "<style scoped>\n",
       "    .dataframe tbody tr th:only-of-type {\n",
       "        vertical-align: middle;\n",
       "    }\n",
       "\n",
       "    .dataframe tbody tr th {\n",
       "        vertical-align: top;\n",
       "    }\n",
       "\n",
       "    .dataframe thead th {\n",
       "        text-align: right;\n",
       "    }\n",
       "</style>\n",
       "<table border=\"1\" class=\"dataframe\">\n",
       "  <thead>\n",
       "    <tr style=\"text-align: right;\">\n",
       "      <th></th>\n",
       "      <th>state</th>\n",
       "      <th>act_participation_rate_2018</th>\n",
       "      <th>act_composite_2018</th>\n",
       "    </tr>\n",
       "  </thead>\n",
       "  <tbody>\n",
       "    <tr>\n",
       "      <td>19</td>\n",
       "      <td>Maine</td>\n",
       "      <td>7</td>\n",
       "      <td>24.0</td>\n",
       "    </tr>\n",
       "    <tr>\n",
       "      <td>20</td>\n",
       "      <td>Maine</td>\n",
       "      <td>7</td>\n",
       "      <td>24.0</td>\n",
       "    </tr>\n",
       "  </tbody>\n",
       "</table>\n",
       "</div>"
      ],
      "text/plain": [
       "    state  act_participation_rate_2018  act_composite_2018\n",
       "19  Maine                            7                24.0\n",
       "20  Maine                            7                24.0"
      ]
     },
     "execution_count": 272,
     "metadata": {},
     "output_type": "execute_result"
    }
   ],
   "source": [
    "#check to see what data is there\n",
    "act_2018[act_2018['state'] == 'Maine']"
   ]
  },
  {
   "cell_type": "code",
   "execution_count": 273,
   "metadata": {},
   "outputs": [],
   "source": [
    "#drop duplicate values\n",
    "act_2018.drop_duplicates('state', inplace=True)"
   ]
  },
  {
   "cell_type": "code",
   "execution_count": 274,
   "metadata": {},
   "outputs": [
    {
     "data": {
      "text/plain": [
       "(51, 3)"
      ]
     },
     "execution_count": 274,
     "metadata": {},
     "output_type": "execute_result"
    }
   ],
   "source": [
    "act_2018.shape\n",
    "#now it looks good"
   ]
  },
  {
   "cell_type": "code",
   "execution_count": 275,
   "metadata": {},
   "outputs": [
    {
     "data": {
      "text/html": [
       "<div>\n",
       "<style scoped>\n",
       "    .dataframe tbody tr th:only-of-type {\n",
       "        vertical-align: middle;\n",
       "    }\n",
       "\n",
       "    .dataframe tbody tr th {\n",
       "        vertical-align: top;\n",
       "    }\n",
       "\n",
       "    .dataframe thead th {\n",
       "        text-align: right;\n",
       "    }\n",
       "</style>\n",
       "<table border=\"1\" class=\"dataframe\">\n",
       "  <thead>\n",
       "    <tr style=\"text-align: right;\">\n",
       "      <th></th>\n",
       "      <th>State</th>\n",
       "      <th>Participation</th>\n",
       "      <th>Evidence-Based Reading and Writing</th>\n",
       "      <th>Math</th>\n",
       "      <th>Total</th>\n",
       "    </tr>\n",
       "  </thead>\n",
       "  <tbody>\n",
       "    <tr>\n",
       "      <td>0</td>\n",
       "      <td>Alabama</td>\n",
       "      <td>6%</td>\n",
       "      <td>595</td>\n",
       "      <td>571</td>\n",
       "      <td>1166</td>\n",
       "    </tr>\n",
       "    <tr>\n",
       "      <td>1</td>\n",
       "      <td>Alaska</td>\n",
       "      <td>43%</td>\n",
       "      <td>562</td>\n",
       "      <td>544</td>\n",
       "      <td>1106</td>\n",
       "    </tr>\n",
       "    <tr>\n",
       "      <td>2</td>\n",
       "      <td>Arizona</td>\n",
       "      <td>29%</td>\n",
       "      <td>577</td>\n",
       "      <td>572</td>\n",
       "      <td>1149</td>\n",
       "    </tr>\n",
       "    <tr>\n",
       "      <td>3</td>\n",
       "      <td>Arkansas</td>\n",
       "      <td>5%</td>\n",
       "      <td>592</td>\n",
       "      <td>576</td>\n",
       "      <td>1169</td>\n",
       "    </tr>\n",
       "    <tr>\n",
       "      <td>4</td>\n",
       "      <td>California</td>\n",
       "      <td>60%</td>\n",
       "      <td>540</td>\n",
       "      <td>536</td>\n",
       "      <td>1076</td>\n",
       "    </tr>\n",
       "  </tbody>\n",
       "</table>\n",
       "</div>"
      ],
      "text/plain": [
       "        State Participation  Evidence-Based Reading and Writing  Math  Total\n",
       "0     Alabama            6%                                 595   571   1166\n",
       "1      Alaska           43%                                 562   544   1106\n",
       "2     Arizona           29%                                 577   572   1149\n",
       "3    Arkansas            5%                                 592   576   1169\n",
       "4  California           60%                                 540   536   1076"
      ]
     },
     "execution_count": 275,
     "metadata": {},
     "output_type": "execute_result"
    }
   ],
   "source": [
    "sat_2018.head()"
   ]
  },
  {
   "cell_type": "code",
   "execution_count": 276,
   "metadata": {},
   "outputs": [],
   "source": [
    "#convert participation rates into ints\n",
    "sat_2018['Participation'] = sat_2018['Participation'].apply(str_percentage_to_int)"
   ]
  },
  {
   "cell_type": "code",
   "execution_count": 277,
   "metadata": {},
   "outputs": [],
   "source": [
    "#chance column names to lowercase and co-existence with other columns\n",
    "\n",
    "sat_2018.rename(columns={\n",
    "    'State':'state',\n",
    "    'Participation':'sat_participation_rate_2018',\n",
    "    'Evidence-Based Reading and Writing':'sat_reading_writing_2018',\n",
    "    'Math':'sat_math_2018',\n",
    "    'Total':'sat_composite_2018'\n",
    "}, inplace=True)    "
   ]
  },
  {
   "cell_type": "code",
   "execution_count": 278,
   "metadata": {},
   "outputs": [
    {
     "data": {
      "text/plain": [
       "state                          object\n",
       "sat_participation_rate_2018     int64\n",
       "sat_reading_writing_2018        int64\n",
       "sat_math_2018                   int64\n",
       "sat_composite_2018              int64\n",
       "dtype: object"
      ]
     },
     "execution_count": 278,
     "metadata": {},
     "output_type": "execute_result"
    }
   ],
   "source": [
    "#check datatypes - all looks good!\n",
    "sat_2018.dtypes"
   ]
  },
  {
   "cell_type": "code",
   "execution_count": 279,
   "metadata": {},
   "outputs": [
    {
     "data": {
      "text/plain": [
       "(51, 5)"
      ]
     },
     "execution_count": 279,
     "metadata": {},
     "output_type": "execute_result"
    }
   ],
   "source": [
    "sat_2018.head()\n",
    "sat_2018.shape"
   ]
  },
  {
   "cell_type": "markdown",
   "metadata": {},
   "source": [
    "#### Combine your 2017 and 2018 data into a single dataframe\n",
    "Joining on state names should work, assuming you formatted all your state names identically. Make sure none of your columns (other than state) have identical names. Do yourself a favor and decide if you're encoding participation rates as floats or integers and standardize this across your datasets.\n",
    "\n",
    "Save the contents of this merged dataframe as `final.csv`.\n",
    "\n",
    "**Use this combined dataframe for the remainder of the project**."
   ]
  },
  {
   "cell_type": "code",
   "execution_count": 280,
   "metadata": {},
   "outputs": [],
   "source": [
    "combined_2018 = act_2018.merge(sat_2018,left_on='state', right_on='state')"
   ]
  },
  {
   "cell_type": "code",
   "execution_count": 281,
   "metadata": {},
   "outputs": [],
   "source": [
    "combined = combined_2018.merge(combined_2017,left_on='state',right_on='state')"
   ]
  },
  {
   "cell_type": "code",
   "execution_count": 282,
   "metadata": {},
   "outputs": [
    {
     "data": {
      "text/html": [
       "<div>\n",
       "<style scoped>\n",
       "    .dataframe tbody tr th:only-of-type {\n",
       "        vertical-align: middle;\n",
       "    }\n",
       "\n",
       "    .dataframe tbody tr th {\n",
       "        vertical-align: top;\n",
       "    }\n",
       "\n",
       "    .dataframe thead th {\n",
       "        text-align: right;\n",
       "    }\n",
       "</style>\n",
       "<table border=\"1\" class=\"dataframe\">\n",
       "  <thead>\n",
       "    <tr style=\"text-align: right;\">\n",
       "      <th></th>\n",
       "      <th>state</th>\n",
       "      <th>act_participation_rate_2018</th>\n",
       "      <th>act_composite_2018</th>\n",
       "      <th>sat_participation_rate_2018</th>\n",
       "      <th>sat_reading_writing_2018</th>\n",
       "      <th>sat_math_2018</th>\n",
       "      <th>sat_composite_2018</th>\n",
       "      <th>act_participation_rate_2017</th>\n",
       "      <th>act_english_2017</th>\n",
       "      <th>act_math_2017</th>\n",
       "      <th>act_reading_2017</th>\n",
       "      <th>act_science_2017</th>\n",
       "      <th>act_composite_2017</th>\n",
       "      <th>sat_participation_rate_2017</th>\n",
       "      <th>sat_reading_writing_2017</th>\n",
       "      <th>sat_math_2017</th>\n",
       "      <th>sat_composite_2017</th>\n",
       "    </tr>\n",
       "  </thead>\n",
       "  <tbody>\n",
       "    <tr>\n",
       "      <td>0</td>\n",
       "      <td>Alabama</td>\n",
       "      <td>100</td>\n",
       "      <td>19.1</td>\n",
       "      <td>6</td>\n",
       "      <td>595</td>\n",
       "      <td>571</td>\n",
       "      <td>1166</td>\n",
       "      <td>100</td>\n",
       "      <td>18.9</td>\n",
       "      <td>18.4</td>\n",
       "      <td>19.7</td>\n",
       "      <td>19.4</td>\n",
       "      <td>19.2</td>\n",
       "      <td>5</td>\n",
       "      <td>593</td>\n",
       "      <td>572</td>\n",
       "      <td>1165</td>\n",
       "    </tr>\n",
       "    <tr>\n",
       "      <td>1</td>\n",
       "      <td>Alaska</td>\n",
       "      <td>33</td>\n",
       "      <td>20.8</td>\n",
       "      <td>43</td>\n",
       "      <td>562</td>\n",
       "      <td>544</td>\n",
       "      <td>1106</td>\n",
       "      <td>65</td>\n",
       "      <td>18.7</td>\n",
       "      <td>19.8</td>\n",
       "      <td>20.4</td>\n",
       "      <td>19.9</td>\n",
       "      <td>19.8</td>\n",
       "      <td>38</td>\n",
       "      <td>547</td>\n",
       "      <td>533</td>\n",
       "      <td>1080</td>\n",
       "    </tr>\n",
       "    <tr>\n",
       "      <td>2</td>\n",
       "      <td>Arizona</td>\n",
       "      <td>66</td>\n",
       "      <td>19.2</td>\n",
       "      <td>29</td>\n",
       "      <td>577</td>\n",
       "      <td>572</td>\n",
       "      <td>1149</td>\n",
       "      <td>62</td>\n",
       "      <td>18.6</td>\n",
       "      <td>19.8</td>\n",
       "      <td>20.1</td>\n",
       "      <td>19.8</td>\n",
       "      <td>19.7</td>\n",
       "      <td>30</td>\n",
       "      <td>563</td>\n",
       "      <td>553</td>\n",
       "      <td>1116</td>\n",
       "    </tr>\n",
       "    <tr>\n",
       "      <td>3</td>\n",
       "      <td>Arkansas</td>\n",
       "      <td>100</td>\n",
       "      <td>19.4</td>\n",
       "      <td>5</td>\n",
       "      <td>592</td>\n",
       "      <td>576</td>\n",
       "      <td>1169</td>\n",
       "      <td>100</td>\n",
       "      <td>18.9</td>\n",
       "      <td>19.0</td>\n",
       "      <td>19.7</td>\n",
       "      <td>19.5</td>\n",
       "      <td>19.4</td>\n",
       "      <td>3</td>\n",
       "      <td>614</td>\n",
       "      <td>594</td>\n",
       "      <td>1208</td>\n",
       "    </tr>\n",
       "    <tr>\n",
       "      <td>4</td>\n",
       "      <td>California</td>\n",
       "      <td>27</td>\n",
       "      <td>22.7</td>\n",
       "      <td>60</td>\n",
       "      <td>540</td>\n",
       "      <td>536</td>\n",
       "      <td>1076</td>\n",
       "      <td>31</td>\n",
       "      <td>22.5</td>\n",
       "      <td>22.7</td>\n",
       "      <td>23.1</td>\n",
       "      <td>22.2</td>\n",
       "      <td>22.8</td>\n",
       "      <td>53</td>\n",
       "      <td>531</td>\n",
       "      <td>524</td>\n",
       "      <td>1055</td>\n",
       "    </tr>\n",
       "  </tbody>\n",
       "</table>\n",
       "</div>"
      ],
      "text/plain": [
       "        state  act_participation_rate_2018  act_composite_2018  \\\n",
       "0     Alabama                          100                19.1   \n",
       "1      Alaska                           33                20.8   \n",
       "2     Arizona                           66                19.2   \n",
       "3    Arkansas                          100                19.4   \n",
       "4  California                           27                22.7   \n",
       "\n",
       "   sat_participation_rate_2018  sat_reading_writing_2018  sat_math_2018  \\\n",
       "0                            6                       595            571   \n",
       "1                           43                       562            544   \n",
       "2                           29                       577            572   \n",
       "3                            5                       592            576   \n",
       "4                           60                       540            536   \n",
       "\n",
       "   sat_composite_2018  act_participation_rate_2017  act_english_2017  \\\n",
       "0                1166                          100              18.9   \n",
       "1                1106                           65              18.7   \n",
       "2                1149                           62              18.6   \n",
       "3                1169                          100              18.9   \n",
       "4                1076                           31              22.5   \n",
       "\n",
       "   act_math_2017  act_reading_2017  act_science_2017  act_composite_2017  \\\n",
       "0           18.4              19.7              19.4                19.2   \n",
       "1           19.8              20.4              19.9                19.8   \n",
       "2           19.8              20.1              19.8                19.7   \n",
       "3           19.0              19.7              19.5                19.4   \n",
       "4           22.7              23.1              22.2                22.8   \n",
       "\n",
       "   sat_participation_rate_2017  sat_reading_writing_2017  sat_math_2017  \\\n",
       "0                            5                       593            572   \n",
       "1                           38                       547            533   \n",
       "2                           30                       563            553   \n",
       "3                            3                       614            594   \n",
       "4                           53                       531            524   \n",
       "\n",
       "   sat_composite_2017  \n",
       "0                1165  \n",
       "1                1080  \n",
       "2                1116  \n",
       "3                1208  \n",
       "4                1055  "
      ]
     },
     "execution_count": 282,
     "metadata": {},
     "output_type": "execute_result"
    }
   ],
   "source": [
    "combined.head()"
   ]
  },
  {
   "cell_type": "code",
   "execution_count": 283,
   "metadata": {},
   "outputs": [
    {
     "data": {
      "text/plain": [
       "(50, 17)"
      ]
     },
     "execution_count": 283,
     "metadata": {},
     "output_type": "execute_result"
    }
   ],
   "source": [
    "combined.shape"
   ]
  },
  {
   "cell_type": "code",
   "execution_count": 284,
   "metadata": {},
   "outputs": [],
   "source": [
    "combined.to_csv(\"../data/final.csv\", index=False)"
   ]
  },
  {
   "cell_type": "markdown",
   "metadata": {},
   "source": [
    "## Exploratory Data Analysis\n",
    "\n",
    "\n",
    "### Summary Statistics\n",
    "Transpose the output of pandas `describe` method to create a quick overview of each numeric feature."
   ]
  },
  {
   "cell_type": "code",
   "execution_count": 285,
   "metadata": {},
   "outputs": [
    {
     "data": {
      "text/html": [
       "<div>\n",
       "<style scoped>\n",
       "    .dataframe tbody tr th:only-of-type {\n",
       "        vertical-align: middle;\n",
       "    }\n",
       "\n",
       "    .dataframe tbody tr th {\n",
       "        vertical-align: top;\n",
       "    }\n",
       "\n",
       "    .dataframe thead th {\n",
       "        text-align: right;\n",
       "    }\n",
       "</style>\n",
       "<table border=\"1\" class=\"dataframe\">\n",
       "  <thead>\n",
       "    <tr style=\"text-align: right;\">\n",
       "      <th></th>\n",
       "      <th>0</th>\n",
       "      <th>1</th>\n",
       "      <th>2</th>\n",
       "      <th>3</th>\n",
       "      <th>4</th>\n",
       "      <th>5</th>\n",
       "      <th>6</th>\n",
       "      <th>7</th>\n",
       "      <th>8</th>\n",
       "      <th>9</th>\n",
       "      <th>...</th>\n",
       "      <th>40</th>\n",
       "      <th>41</th>\n",
       "      <th>42</th>\n",
       "      <th>43</th>\n",
       "      <th>44</th>\n",
       "      <th>45</th>\n",
       "      <th>46</th>\n",
       "      <th>47</th>\n",
       "      <th>48</th>\n",
       "      <th>49</th>\n",
       "    </tr>\n",
       "  </thead>\n",
       "  <tbody>\n",
       "    <tr>\n",
       "      <td>count</td>\n",
       "      <td>17</td>\n",
       "      <td>17.0</td>\n",
       "      <td>17.0</td>\n",
       "      <td>17.0</td>\n",
       "      <td>17.0</td>\n",
       "      <td>17</td>\n",
       "      <td>17.0</td>\n",
       "      <td>17.0</td>\n",
       "      <td>17.0</td>\n",
       "      <td>17.0</td>\n",
       "      <td>...</td>\n",
       "      <td>17</td>\n",
       "      <td>17</td>\n",
       "      <td>17.0</td>\n",
       "      <td>17</td>\n",
       "      <td>17.0</td>\n",
       "      <td>17.0</td>\n",
       "      <td>17.0</td>\n",
       "      <td>17</td>\n",
       "      <td>17.0</td>\n",
       "      <td>17</td>\n",
       "    </tr>\n",
       "    <tr>\n",
       "      <td>unique</td>\n",
       "      <td>16</td>\n",
       "      <td>16.0</td>\n",
       "      <td>16.0</td>\n",
       "      <td>15.0</td>\n",
       "      <td>16.0</td>\n",
       "      <td>16</td>\n",
       "      <td>14.0</td>\n",
       "      <td>14.0</td>\n",
       "      <td>16.0</td>\n",
       "      <td>16.0</td>\n",
       "      <td>...</td>\n",
       "      <td>16</td>\n",
       "      <td>16</td>\n",
       "      <td>14.0</td>\n",
       "      <td>16</td>\n",
       "      <td>17.0</td>\n",
       "      <td>16.0</td>\n",
       "      <td>16.0</td>\n",
       "      <td>17</td>\n",
       "      <td>14.0</td>\n",
       "      <td>15</td>\n",
       "    </tr>\n",
       "    <tr>\n",
       "      <td>top</td>\n",
       "      <td>100</td>\n",
       "      <td>19.8</td>\n",
       "      <td>19.8</td>\n",
       "      <td>19.4</td>\n",
       "      <td>22.7</td>\n",
       "      <td>100</td>\n",
       "      <td>25.6</td>\n",
       "      <td>24.1</td>\n",
       "      <td>19.4</td>\n",
       "      <td>21.4</td>\n",
       "      <td>...</td>\n",
       "      <td>3</td>\n",
       "      <td>100</td>\n",
       "      <td>20.7</td>\n",
       "      <td>100</td>\n",
       "      <td>24.4</td>\n",
       "      <td>23.5</td>\n",
       "      <td>21.9</td>\n",
       "      <td>1086</td>\n",
       "      <td>20.5</td>\n",
       "      <td>100</td>\n",
       "    </tr>\n",
       "    <tr>\n",
       "      <td>freq</td>\n",
       "      <td>2</td>\n",
       "      <td>2.0</td>\n",
       "      <td>2.0</td>\n",
       "      <td>2.0</td>\n",
       "      <td>2.0</td>\n",
       "      <td>2</td>\n",
       "      <td>2.0</td>\n",
       "      <td>2.0</td>\n",
       "      <td>2.0</td>\n",
       "      <td>2.0</td>\n",
       "      <td>...</td>\n",
       "      <td>2</td>\n",
       "      <td>2</td>\n",
       "      <td>3.0</td>\n",
       "      <td>2</td>\n",
       "      <td>1.0</td>\n",
       "      <td>2.0</td>\n",
       "      <td>2.0</td>\n",
       "      <td>1</td>\n",
       "      <td>2.0</td>\n",
       "      <td>2</td>\n",
       "    </tr>\n",
       "  </tbody>\n",
       "</table>\n",
       "<p>4 rows × 50 columns</p>\n",
       "</div>"
      ],
      "text/plain": [
       "         0     1     2     3     4    5     6     7     8     9   ...  40  \\\n",
       "count    17  17.0  17.0  17.0  17.0   17  17.0  17.0  17.0  17.0  ...  17   \n",
       "unique   16  16.0  16.0  15.0  16.0   16  14.0  14.0  16.0  16.0  ...  16   \n",
       "top     100  19.8  19.8  19.4  22.7  100  25.6  24.1  19.4  21.4  ...   3   \n",
       "freq      2   2.0   2.0   2.0   2.0    2   2.0   2.0   2.0   2.0  ...   2   \n",
       "\n",
       "         41    42   43    44    45    46    47    48   49  \n",
       "count    17  17.0   17  17.0  17.0  17.0    17  17.0   17  \n",
       "unique   16  14.0   16  17.0  16.0  16.0    17  14.0   15  \n",
       "top     100  20.7  100  24.4  23.5  21.9  1086  20.5  100  \n",
       "freq      2   3.0    2   1.0   2.0   2.0     1   2.0    2  \n",
       "\n",
       "[4 rows x 50 columns]"
      ]
     },
     "execution_count": 285,
     "metadata": {},
     "output_type": "execute_result"
    }
   ],
   "source": [
    "#Code:\n",
    "combined.T.describe()"
   ]
  },
  {
   "cell_type": "markdown",
   "metadata": {},
   "source": [
    "#### Manually calculate standard deviation\n",
    "\n",
    "$$\\sigma = \\sqrt{\\frac{1}{n}\\sum_{i=1}^n(x_i - \\mu)^2}$$\n",
    "\n",
    "- Write a function to calculate standard deviation using the formula above"
   ]
  },
  {
   "cell_type": "code",
   "execution_count": 286,
   "metadata": {},
   "outputs": [],
   "source": [
    "#code\n",
    "#quick reminder of st dev from https://revisionmaths.com/gcse-maths-revision/statistics-handling-data/standard-deviation\n",
    "\n",
    "def st_dev(array):\n",
    "    total= 0\n",
    "    mean = np.mean(array)\n",
    "    for n in array:\n",
    "        total+=(mean - n)**2\n",
    "    return((total / len(array))**.5)"
   ]
  },
  {
   "cell_type": "code",
   "execution_count": 287,
   "metadata": {},
   "outputs": [],
   "source": [
    "combined.index = combined['state']\n",
    "combined.drop(columns = 'state', inplace=True)"
   ]
  },
  {
   "cell_type": "code",
   "execution_count": 288,
   "metadata": {},
   "outputs": [
    {
     "data": {
      "text/html": [
       "<div>\n",
       "<style scoped>\n",
       "    .dataframe tbody tr th:only-of-type {\n",
       "        vertical-align: middle;\n",
       "    }\n",
       "\n",
       "    .dataframe tbody tr th {\n",
       "        vertical-align: top;\n",
       "    }\n",
       "\n",
       "    .dataframe thead th {\n",
       "        text-align: right;\n",
       "    }\n",
       "</style>\n",
       "<table border=\"1\" class=\"dataframe\">\n",
       "  <thead>\n",
       "    <tr style=\"text-align: right;\">\n",
       "      <th>state</th>\n",
       "      <th>Alabama</th>\n",
       "      <th>Alaska</th>\n",
       "      <th>Arizona</th>\n",
       "      <th>Arkansas</th>\n",
       "      <th>California</th>\n",
       "      <th>Colorado</th>\n",
       "      <th>Connecticut</th>\n",
       "      <th>Delaware</th>\n",
       "      <th>Florida</th>\n",
       "      <th>Georgia</th>\n",
       "      <th>...</th>\n",
       "      <th>South Dakota</th>\n",
       "      <th>Tennessee</th>\n",
       "      <th>Texas</th>\n",
       "      <th>Utah</th>\n",
       "      <th>Vermont</th>\n",
       "      <th>Virginia</th>\n",
       "      <th>Washington</th>\n",
       "      <th>West Virginia</th>\n",
       "      <th>Wisconsin</th>\n",
       "      <th>Wyoming</th>\n",
       "    </tr>\n",
       "  </thead>\n",
       "  <tbody>\n",
       "    <tr>\n",
       "      <td>count</td>\n",
       "      <td>16.000000</td>\n",
       "      <td>16.000000</td>\n",
       "      <td>16.000000</td>\n",
       "      <td>16.000000</td>\n",
       "      <td>16.000000</td>\n",
       "      <td>16.000000</td>\n",
       "      <td>16.000000</td>\n",
       "      <td>16.000000</td>\n",
       "      <td>16.00000</td>\n",
       "      <td>16.000000</td>\n",
       "      <td>...</td>\n",
       "      <td>16.000000</td>\n",
       "      <td>16.000000</td>\n",
       "      <td>16.000000</td>\n",
       "      <td>16.000000</td>\n",
       "      <td>16.000000</td>\n",
       "      <td>16.000000</td>\n",
       "      <td>16.00000</td>\n",
       "      <td>16.000000</td>\n",
       "      <td>16.000000</td>\n",
       "      <td>16.000000</td>\n",
       "    </tr>\n",
       "    <tr>\n",
       "      <td>mean</td>\n",
       "      <td>311.731250</td>\n",
       "      <td>291.900000</td>\n",
       "      <td>302.137500</td>\n",
       "      <td>317.306250</td>\n",
       "      <td>285.562500</td>\n",
       "      <td>301.262500</td>\n",
       "      <td>287.381250</td>\n",
       "      <td>272.800000</td>\n",
       "      <td>289.28125</td>\n",
       "      <td>287.187500</td>\n",
       "      <td>...</td>\n",
       "      <td>325.262500</td>\n",
       "      <td>327.881250</td>\n",
       "      <td>277.850000</td>\n",
       "      <td>301.531250</td>\n",
       "      <td>299.043750</td>\n",
       "      <td>297.912500</td>\n",
       "      <td>289.31250</td>\n",
       "      <td>279.237500</td>\n",
       "      <td>343.662500</td>\n",
       "      <td>331.362500</td>\n",
       "    </tr>\n",
       "    <tr>\n",
       "      <td>std</td>\n",
       "      <td>411.753382</td>\n",
       "      <td>385.781442</td>\n",
       "      <td>400.015556</td>\n",
       "      <td>420.256919</td>\n",
       "      <td>375.293757</td>\n",
       "      <td>392.535833</td>\n",
       "      <td>364.705873</td>\n",
       "      <td>347.709187</td>\n",
       "      <td>369.37014</td>\n",
       "      <td>369.671373</td>\n",
       "      <td>...</td>\n",
       "      <td>435.557863</td>\n",
       "      <td>434.848884</td>\n",
       "      <td>359.423036</td>\n",
       "      <td>399.847054</td>\n",
       "      <td>393.497839</td>\n",
       "      <td>390.479234</td>\n",
       "      <td>379.49297</td>\n",
       "      <td>368.037407</td>\n",
       "      <td>457.867033</td>\n",
       "      <td>440.196073</td>\n",
       "    </tr>\n",
       "    <tr>\n",
       "      <td>min</td>\n",
       "      <td>5.000000</td>\n",
       "      <td>18.700000</td>\n",
       "      <td>18.600000</td>\n",
       "      <td>3.000000</td>\n",
       "      <td>22.200000</td>\n",
       "      <td>11.000000</td>\n",
       "      <td>24.600000</td>\n",
       "      <td>17.000000</td>\n",
       "      <td>19.00000</td>\n",
       "      <td>20.900000</td>\n",
       "      <td>...</td>\n",
       "      <td>3.000000</td>\n",
       "      <td>5.000000</td>\n",
       "      <td>19.500000</td>\n",
       "      <td>3.000000</td>\n",
       "      <td>23.100000</td>\n",
       "      <td>23.300000</td>\n",
       "      <td>20.90000</td>\n",
       "      <td>14.000000</td>\n",
       "      <td>3.000000</td>\n",
       "      <td>3.000000</td>\n",
       "    </tr>\n",
       "    <tr>\n",
       "      <td>25%</td>\n",
       "      <td>19.050000</td>\n",
       "      <td>20.275000</td>\n",
       "      <td>19.800000</td>\n",
       "      <td>19.300000</td>\n",
       "      <td>22.775000</td>\n",
       "      <td>20.875000</td>\n",
       "      <td>25.575000</td>\n",
       "      <td>23.750000</td>\n",
       "      <td>19.87500</td>\n",
       "      <td>21.400000</td>\n",
       "      <td>...</td>\n",
       "      <td>21.725000</td>\n",
       "      <td>19.575000</td>\n",
       "      <td>20.850000</td>\n",
       "      <td>20.200000</td>\n",
       "      <td>23.900000</td>\n",
       "      <td>23.875000</td>\n",
       "      <td>22.07500</td>\n",
       "      <td>20.375000</td>\n",
       "      <td>20.475000</td>\n",
       "      <td>19.950000</td>\n",
       "    </tr>\n",
       "    <tr>\n",
       "      <td>50%</td>\n",
       "      <td>59.850000</td>\n",
       "      <td>40.500000</td>\n",
       "      <td>46.000000</td>\n",
       "      <td>59.850000</td>\n",
       "      <td>42.000000</td>\n",
       "      <td>65.000000</td>\n",
       "      <td>65.500000</td>\n",
       "      <td>62.400000</td>\n",
       "      <td>69.50000</td>\n",
       "      <td>58.000000</td>\n",
       "      <td>...</td>\n",
       "      <td>49.650000</td>\n",
       "      <td>60.050000</td>\n",
       "      <td>53.500000</td>\n",
       "      <td>60.400000</td>\n",
       "      <td>44.500000</td>\n",
       "      <td>47.000000</td>\n",
       "      <td>46.50000</td>\n",
       "      <td>46.500000</td>\n",
       "      <td>60.450000</td>\n",
       "      <td>60.400000</td>\n",
       "    </tr>\n",
       "    <tr>\n",
       "      <td>75%</td>\n",
       "      <td>577.250000</td>\n",
       "      <td>544.750000</td>\n",
       "      <td>565.250000</td>\n",
       "      <td>592.500000</td>\n",
       "      <td>532.250000</td>\n",
       "      <td>538.000000</td>\n",
       "      <td>521.750000</td>\n",
       "      <td>494.750000</td>\n",
       "      <td>527.25000</td>\n",
       "      <td>525.250000</td>\n",
       "      <td>...</td>\n",
       "      <td>613.500000</td>\n",
       "      <td>611.000000</td>\n",
       "      <td>512.250000</td>\n",
       "      <td>551.000000</td>\n",
       "      <td>556.000000</td>\n",
       "      <td>552.750000</td>\n",
       "      <td>538.75000</td>\n",
       "      <td>516.750000</td>\n",
       "      <td>643.750000</td>\n",
       "      <td>625.250000</td>\n",
       "    </tr>\n",
       "    <tr>\n",
       "      <td>max</td>\n",
       "      <td>1166.000000</td>\n",
       "      <td>1106.000000</td>\n",
       "      <td>1149.000000</td>\n",
       "      <td>1208.000000</td>\n",
       "      <td>1076.000000</td>\n",
       "      <td>1201.000000</td>\n",
       "      <td>1053.000000</td>\n",
       "      <td>998.000000</td>\n",
       "      <td>1099.00000</td>\n",
       "      <td>1064.000000</td>\n",
       "      <td>...</td>\n",
       "      <td>1240.000000</td>\n",
       "      <td>1231.000000</td>\n",
       "      <td>1032.000000</td>\n",
       "      <td>1238.000000</td>\n",
       "      <td>1120.000000</td>\n",
       "      <td>1117.000000</td>\n",
       "      <td>1081.00000</td>\n",
       "      <td>1086.000000</td>\n",
       "      <td>1294.000000</td>\n",
       "      <td>1257.000000</td>\n",
       "    </tr>\n",
       "  </tbody>\n",
       "</table>\n",
       "<p>8 rows × 50 columns</p>\n",
       "</div>"
      ],
      "text/plain": [
       "state      Alabama       Alaska      Arizona     Arkansas   California  \\\n",
       "count    16.000000    16.000000    16.000000    16.000000    16.000000   \n",
       "mean    311.731250   291.900000   302.137500   317.306250   285.562500   \n",
       "std     411.753382   385.781442   400.015556   420.256919   375.293757   \n",
       "min       5.000000    18.700000    18.600000     3.000000    22.200000   \n",
       "25%      19.050000    20.275000    19.800000    19.300000    22.775000   \n",
       "50%      59.850000    40.500000    46.000000    59.850000    42.000000   \n",
       "75%     577.250000   544.750000   565.250000   592.500000   532.250000   \n",
       "max    1166.000000  1106.000000  1149.000000  1208.000000  1076.000000   \n",
       "\n",
       "state     Colorado  Connecticut    Delaware     Florida      Georgia  ...  \\\n",
       "count    16.000000    16.000000   16.000000    16.00000    16.000000  ...   \n",
       "mean    301.262500   287.381250  272.800000   289.28125   287.187500  ...   \n",
       "std     392.535833   364.705873  347.709187   369.37014   369.671373  ...   \n",
       "min      11.000000    24.600000   17.000000    19.00000    20.900000  ...   \n",
       "25%      20.875000    25.575000   23.750000    19.87500    21.400000  ...   \n",
       "50%      65.000000    65.500000   62.400000    69.50000    58.000000  ...   \n",
       "75%     538.000000   521.750000  494.750000   527.25000   525.250000  ...   \n",
       "max    1201.000000  1053.000000  998.000000  1099.00000  1064.000000  ...   \n",
       "\n",
       "state  South Dakota    Tennessee        Texas         Utah      Vermont  \\\n",
       "count     16.000000    16.000000    16.000000    16.000000    16.000000   \n",
       "mean     325.262500   327.881250   277.850000   301.531250   299.043750   \n",
       "std      435.557863   434.848884   359.423036   399.847054   393.497839   \n",
       "min        3.000000     5.000000    19.500000     3.000000    23.100000   \n",
       "25%       21.725000    19.575000    20.850000    20.200000    23.900000   \n",
       "50%       49.650000    60.050000    53.500000    60.400000    44.500000   \n",
       "75%      613.500000   611.000000   512.250000   551.000000   556.000000   \n",
       "max     1240.000000  1231.000000  1032.000000  1238.000000  1120.000000   \n",
       "\n",
       "state     Virginia  Washington  West Virginia    Wisconsin      Wyoming  \n",
       "count    16.000000    16.00000      16.000000    16.000000    16.000000  \n",
       "mean    297.912500   289.31250     279.237500   343.662500   331.362500  \n",
       "std     390.479234   379.49297     368.037407   457.867033   440.196073  \n",
       "min      23.300000    20.90000      14.000000     3.000000     3.000000  \n",
       "25%      23.875000    22.07500      20.375000    20.475000    19.950000  \n",
       "50%      47.000000    46.50000      46.500000    60.450000    60.400000  \n",
       "75%     552.750000   538.75000     516.750000   643.750000   625.250000  \n",
       "max    1117.000000  1081.00000    1086.000000  1294.000000  1257.000000  \n",
       "\n",
       "[8 rows x 50 columns]"
      ]
     },
     "execution_count": 288,
     "metadata": {},
     "output_type": "execute_result"
    }
   ],
   "source": [
    "combined.T.describe()"
   ]
  },
  {
   "cell_type": "markdown",
   "metadata": {},
   "source": [
    "- Use a **dictionary comprehension** to apply your standard deviation function to each numeric column in the dataframe.  **No loops**  \n",
    "- Assign the output to variable `sd` as a dictionary where: \n",
    "    - Each column name is now a key \n",
    "    - That standard deviation of the column is the value \n",
    "     \n",
    "*Example Output :* `{'ACT_Math': 120, 'ACT_Reading': 120, ...}`"
   ]
  },
  {
   "cell_type": "code",
   "execution_count": 289,
   "metadata": {},
   "outputs": [
    {
     "data": {
      "text/plain": [
       "{'act_participation_rate_2018': 33.7712540483767,\n",
       " 'act_composite_2018': 2.090091864009809,\n",
       " 'sat_participation_rate_2018': 36.72475459414263,\n",
       " 'sat_reading_writing_2018': 46.537937212558106,\n",
       " 'sat_math_2018': 46.51518461749884,\n",
       " 'sat_composite_2018': 91.91248881408882,\n",
       " 'act_participation_rate_2017': 31.787947401491657,\n",
       " 'act_english_2017': 2.3009467616613812,\n",
       " 'act_math_2017': 1.9541504548012678,\n",
       " 'act_reading_2017': 2.025750231395766,\n",
       " 'act_science_2017': 3.1630263988781375,\n",
       " 'act_composite_2017': 1.9840977798485642,\n",
       " 'sat_participation_rate_2017': 34.21286307808804,\n",
       " 'sat_reading_writing_2017': 43.9390532442382,\n",
       " 'sat_math_2017': 84.14399324966696,\n",
       " 'sat_composite_2017': 89.00941298536914}"
      ]
     },
     "execution_count": 289,
     "metadata": {},
     "output_type": "execute_result"
    }
   ],
   "source": [
    "\n",
    "#Code:\n",
    "sd = {state:st_dev(metric) \n",
    "     for state,metric \n",
    "     in combined.items()}\n",
    "sd"
   ]
  },
  {
   "cell_type": "code",
   "execution_count": 290,
   "metadata": {},
   "outputs": [
    {
     "data": {
      "text/plain": [
       "{'act_participation_rate_2018': 33.7712540483767,\n",
       " 'act_composite_2018': 2.090091864009809,\n",
       " 'sat_participation_rate_2018': 36.72475459414263,\n",
       " 'sat_reading_writing_2018': 46.537937212558106,\n",
       " 'sat_math_2018': 46.51518461749884,\n",
       " 'sat_composite_2018': 91.91248881408882,\n",
       " 'act_participation_rate_2017': 31.787947401491657,\n",
       " 'act_english_2017': 2.3009467616613812,\n",
       " 'act_math_2017': 1.9541504548012678,\n",
       " 'act_reading_2017': 2.025750231395766,\n",
       " 'act_science_2017': 3.1630263988781375,\n",
       " 'act_composite_2017': 1.9840977798485642,\n",
       " 'sat_participation_rate_2017': 34.21286307808804,\n",
       " 'sat_reading_writing_2017': 43.9390532442382,\n",
       " 'sat_math_2017': 84.14399324966696,\n",
       " 'sat_composite_2017': 89.00941298536914}"
      ]
     },
     "execution_count": 290,
     "metadata": {},
     "output_type": "execute_result"
    }
   ],
   "source": [
    "#numpy version\n",
    "sd_np = {state:np.std(metric) \n",
    "     for state,metric \n",
    "     in combined.items()}\n",
    "sd_np"
   ]
  },
  {
   "cell_type": "code",
   "execution_count": 291,
   "metadata": {},
   "outputs": [
    {
     "data": {
      "text/html": [
       "<div>\n",
       "<style scoped>\n",
       "    .dataframe tbody tr th:only-of-type {\n",
       "        vertical-align: middle;\n",
       "    }\n",
       "\n",
       "    .dataframe tbody tr th {\n",
       "        vertical-align: top;\n",
       "    }\n",
       "\n",
       "    .dataframe thead th {\n",
       "        text-align: right;\n",
       "    }\n",
       "</style>\n",
       "<table border=\"1\" class=\"dataframe\">\n",
       "  <thead>\n",
       "    <tr style=\"text-align: right;\">\n",
       "      <th></th>\n",
       "      <th>act_participation_rate_2018</th>\n",
       "      <th>act_composite_2018</th>\n",
       "      <th>sat_participation_rate_2018</th>\n",
       "      <th>sat_reading_writing_2018</th>\n",
       "      <th>sat_math_2018</th>\n",
       "      <th>sat_composite_2018</th>\n",
       "      <th>act_participation_rate_2017</th>\n",
       "      <th>act_english_2017</th>\n",
       "      <th>act_math_2017</th>\n",
       "      <th>act_reading_2017</th>\n",
       "      <th>act_science_2017</th>\n",
       "      <th>act_composite_2017</th>\n",
       "      <th>sat_participation_rate_2017</th>\n",
       "      <th>sat_reading_writing_2017</th>\n",
       "      <th>sat_math_2017</th>\n",
       "      <th>sat_composite_2017</th>\n",
       "    </tr>\n",
       "  </thead>\n",
       "  <tbody>\n",
       "    <tr>\n",
       "      <td>count</td>\n",
       "      <td>50.000000</td>\n",
       "      <td>50.000000</td>\n",
       "      <td>50.000000</td>\n",
       "      <td>50.000000</td>\n",
       "      <td>50.000000</td>\n",
       "      <td>50.000000</td>\n",
       "      <td>50.000000</td>\n",
       "      <td>50.000000</td>\n",
       "      <td>50.00000</td>\n",
       "      <td>50.000000</td>\n",
       "      <td>50.000000</td>\n",
       "      <td>50.000000</td>\n",
       "      <td>50.000000</td>\n",
       "      <td>50.000000</td>\n",
       "      <td>50.000000</td>\n",
       "      <td>50.000000</td>\n",
       "    </tr>\n",
       "    <tr>\n",
       "      <td>mean</td>\n",
       "      <td>62.320000</td>\n",
       "      <td>21.454000</td>\n",
       "      <td>44.820000</td>\n",
       "      <td>565.020000</td>\n",
       "      <td>557.760000</td>\n",
       "      <td>1122.880000</td>\n",
       "      <td>65.920000</td>\n",
       "      <td>20.862000</td>\n",
       "      <td>21.13600</td>\n",
       "      <td>21.956000</td>\n",
       "      <td>20.992000</td>\n",
       "      <td>21.466000</td>\n",
       "      <td>38.600000</td>\n",
       "      <td>570.860000</td>\n",
       "      <td>549.220000</td>\n",
       "      <td>1129.620000</td>\n",
       "    </tr>\n",
       "    <tr>\n",
       "      <td>std</td>\n",
       "      <td>34.114118</td>\n",
       "      <td>2.111312</td>\n",
       "      <td>37.097604</td>\n",
       "      <td>47.010416</td>\n",
       "      <td>46.987432</td>\n",
       "      <td>92.845634</td>\n",
       "      <td>32.110676</td>\n",
       "      <td>2.324307</td>\n",
       "      <td>1.97399</td>\n",
       "      <td>2.046317</td>\n",
       "      <td>3.195139</td>\n",
       "      <td>2.004241</td>\n",
       "      <td>34.560211</td>\n",
       "      <td>44.385146</td>\n",
       "      <td>84.998269</td>\n",
       "      <td>89.913085</td>\n",
       "    </tr>\n",
       "    <tr>\n",
       "      <td>min</td>\n",
       "      <td>7.000000</td>\n",
       "      <td>17.700000</td>\n",
       "      <td>2.000000</td>\n",
       "      <td>480.000000</td>\n",
       "      <td>486.000000</td>\n",
       "      <td>998.000000</td>\n",
       "      <td>8.000000</td>\n",
       "      <td>16.300000</td>\n",
       "      <td>18.00000</td>\n",
       "      <td>18.100000</td>\n",
       "      <td>2.300000</td>\n",
       "      <td>17.800000</td>\n",
       "      <td>2.000000</td>\n",
       "      <td>503.000000</td>\n",
       "      <td>52.000000</td>\n",
       "      <td>996.000000</td>\n",
       "    </tr>\n",
       "    <tr>\n",
       "      <td>25%</td>\n",
       "      <td>27.750000</td>\n",
       "      <td>19.925000</td>\n",
       "      <td>4.250000</td>\n",
       "      <td>535.000000</td>\n",
       "      <td>524.250000</td>\n",
       "      <td>1062.250000</td>\n",
       "      <td>31.000000</td>\n",
       "      <td>19.000000</td>\n",
       "      <td>19.40000</td>\n",
       "      <td>20.425000</td>\n",
       "      <td>19.900000</td>\n",
       "      <td>19.800000</td>\n",
       "      <td>4.000000</td>\n",
       "      <td>535.250000</td>\n",
       "      <td>523.250000</td>\n",
       "      <td>1057.000000</td>\n",
       "    </tr>\n",
       "    <tr>\n",
       "      <td>50%</td>\n",
       "      <td>66.000000</td>\n",
       "      <td>21.050000</td>\n",
       "      <td>50.000000</td>\n",
       "      <td>552.000000</td>\n",
       "      <td>545.500000</td>\n",
       "      <td>1098.500000</td>\n",
       "      <td>71.000000</td>\n",
       "      <td>20.550000</td>\n",
       "      <td>20.90000</td>\n",
       "      <td>21.700000</td>\n",
       "      <td>21.100000</td>\n",
       "      <td>21.400000</td>\n",
       "      <td>34.000000</td>\n",
       "      <td>559.500000</td>\n",
       "      <td>549.500000</td>\n",
       "      <td>1107.500000</td>\n",
       "    </tr>\n",
       "    <tr>\n",
       "      <td>75%</td>\n",
       "      <td>100.000000</td>\n",
       "      <td>23.650000</td>\n",
       "      <td>74.500000</td>\n",
       "      <td>612.750000</td>\n",
       "      <td>594.250000</td>\n",
       "      <td>1207.000000</td>\n",
       "      <td>100.000000</td>\n",
       "      <td>23.100000</td>\n",
       "      <td>23.00000</td>\n",
       "      <td>23.875000</td>\n",
       "      <td>22.275000</td>\n",
       "      <td>23.400000</td>\n",
       "      <td>65.000000</td>\n",
       "      <td>613.500000</td>\n",
       "      <td>601.000000</td>\n",
       "      <td>1214.000000</td>\n",
       "    </tr>\n",
       "    <tr>\n",
       "      <td>max</td>\n",
       "      <td>100.000000</td>\n",
       "      <td>25.600000</td>\n",
       "      <td>100.000000</td>\n",
       "      <td>643.000000</td>\n",
       "      <td>655.000000</td>\n",
       "      <td>1298.000000</td>\n",
       "      <td>100.000000</td>\n",
       "      <td>25.500000</td>\n",
       "      <td>25.30000</td>\n",
       "      <td>26.000000</td>\n",
       "      <td>24.900000</td>\n",
       "      <td>25.500000</td>\n",
       "      <td>100.000000</td>\n",
       "      <td>644.000000</td>\n",
       "      <td>651.000000</td>\n",
       "      <td>1295.000000</td>\n",
       "    </tr>\n",
       "  </tbody>\n",
       "</table>\n",
       "</div>"
      ],
      "text/plain": [
       "       act_participation_rate_2018  act_composite_2018  \\\n",
       "count                    50.000000           50.000000   \n",
       "mean                     62.320000           21.454000   \n",
       "std                      34.114118            2.111312   \n",
       "min                       7.000000           17.700000   \n",
       "25%                      27.750000           19.925000   \n",
       "50%                      66.000000           21.050000   \n",
       "75%                     100.000000           23.650000   \n",
       "max                     100.000000           25.600000   \n",
       "\n",
       "       sat_participation_rate_2018  sat_reading_writing_2018  sat_math_2018  \\\n",
       "count                    50.000000                 50.000000      50.000000   \n",
       "mean                     44.820000                565.020000     557.760000   \n",
       "std                      37.097604                 47.010416      46.987432   \n",
       "min                       2.000000                480.000000     486.000000   \n",
       "25%                       4.250000                535.000000     524.250000   \n",
       "50%                      50.000000                552.000000     545.500000   \n",
       "75%                      74.500000                612.750000     594.250000   \n",
       "max                     100.000000                643.000000     655.000000   \n",
       "\n",
       "       sat_composite_2018  act_participation_rate_2017  act_english_2017  \\\n",
       "count           50.000000                    50.000000         50.000000   \n",
       "mean          1122.880000                    65.920000         20.862000   \n",
       "std             92.845634                    32.110676          2.324307   \n",
       "min            998.000000                     8.000000         16.300000   \n",
       "25%           1062.250000                    31.000000         19.000000   \n",
       "50%           1098.500000                    71.000000         20.550000   \n",
       "75%           1207.000000                   100.000000         23.100000   \n",
       "max           1298.000000                   100.000000         25.500000   \n",
       "\n",
       "       act_math_2017  act_reading_2017  act_science_2017  act_composite_2017  \\\n",
       "count       50.00000         50.000000         50.000000           50.000000   \n",
       "mean        21.13600         21.956000         20.992000           21.466000   \n",
       "std          1.97399          2.046317          3.195139            2.004241   \n",
       "min         18.00000         18.100000          2.300000           17.800000   \n",
       "25%         19.40000         20.425000         19.900000           19.800000   \n",
       "50%         20.90000         21.700000         21.100000           21.400000   \n",
       "75%         23.00000         23.875000         22.275000           23.400000   \n",
       "max         25.30000         26.000000         24.900000           25.500000   \n",
       "\n",
       "       sat_participation_rate_2017  sat_reading_writing_2017  sat_math_2017  \\\n",
       "count                    50.000000                 50.000000      50.000000   \n",
       "mean                     38.600000                570.860000     549.220000   \n",
       "std                      34.560211                 44.385146      84.998269   \n",
       "min                       2.000000                503.000000      52.000000   \n",
       "25%                       4.000000                535.250000     523.250000   \n",
       "50%                      34.000000                559.500000     549.500000   \n",
       "75%                      65.000000                613.500000     601.000000   \n",
       "max                     100.000000                644.000000     651.000000   \n",
       "\n",
       "       sat_composite_2017  \n",
       "count           50.000000  \n",
       "mean          1129.620000  \n",
       "std             89.913085  \n",
       "min            996.000000  \n",
       "25%           1057.000000  \n",
       "50%           1107.500000  \n",
       "75%           1214.000000  \n",
       "max           1295.000000  "
      ]
     },
     "execution_count": 291,
     "metadata": {},
     "output_type": "execute_result"
    }
   ],
   "source": [
    "combined.describe()"
   ]
  },
  {
   "cell_type": "markdown",
   "metadata": {},
   "source": [
    "Do your manually calculated standard deviations match up with the output from pandas `describe`? What about numpy's `std` method?"
   ]
  },
  {
   "cell_type": "markdown",
   "metadata": {},
   "source": [
    "Numpy `std` and my `st_dev()` match but neither matches the PANDAS `.describe()`."
   ]
  },
  {
   "cell_type": "markdown",
   "metadata": {},
   "source": [
    "#### Investigate trends in the data\n",
    "Using sorting and/or masking (along with the `.head` method to not print our entire dataframe), consider the following questions:\n",
    "\n",
    "- Which states have the highest and lowest participation rates for the:\n",
    "    - 2017 SAT?\n",
    "    - 2018 SAT?\n",
    "    - 2017 ACT?\n",
    "    - 2018 ACT?\n",
    "- Which states have the highest and lowest mean total/composite scores for the:\n",
    "    - 2017 SAT?\n",
    "    - 2018 SAT?\n",
    "    - 2017 ACT?\n",
    "    - 2018 ACT?\n",
    "- Do any states with 100% participation on a given test have a rate change year-to-year?\n",
    "- Do any states show have >50% participation on *both* tests either year?\n",
    "\n",
    "Based on what you've just observed, have you identified any states that you're especially interested in? **Make a note of these and state *why* you think they're interesting**.\n",
    "\n",
    "**You should comment on your findings at each step in a markdown cell below your code block**. Make sure you include at least one example of sorting your dataframe by a column, and one example of using boolean filtering (i.e., masking) to select a subset of the dataframe."
   ]
  },
  {
   "cell_type": "code",
   "execution_count": 309,
   "metadata": {},
   "outputs": [
    {
     "data": {
      "text/plain": [
       "Index(['act_participation_rate_2018', 'act_composite_2018',\n",
       "       'sat_participation_rate_2018', 'sat_reading_writing_2018',\n",
       "       'sat_math_2018', 'sat_composite_2018', 'act_participation_rate_2017',\n",
       "       'act_english_2017', 'act_math_2017', 'act_reading_2017',\n",
       "       'act_science_2017', 'act_composite_2017', 'sat_participation_rate_2017',\n",
       "       'sat_reading_writing_2017', 'sat_math_2017', 'sat_composite_2017'],\n",
       "      dtype='object')"
      ]
     },
     "execution_count": 309,
     "metadata": {},
     "output_type": "execute_result"
    }
   ],
   "source": [
    "combined.columns"
   ]
  },
  {
   "cell_type": "code",
   "execution_count": 328,
   "metadata": {},
   "outputs": [],
   "source": [
    "#code\n",
    "\n",
    "def max_min(column):\n",
    "    max_mask = (combined[column] == combined[column].max())\n",
    "    min_mask = (combined[column] == combined[column].min())\n",
    "    print(f'States with highest {column} values\\n{combined[column][max_mask]}\\n--')\n",
    "    print(f'States with lowest {column} values\\n{combined[column][min_mask]}')\n",
    "    print(f'\\n')"
   ]
  },
  {
   "cell_type": "code",
   "execution_count": 329,
   "metadata": {},
   "outputs": [
    {
     "name": "stdout",
     "output_type": "stream",
     "text": [
      "States with highest sat_participation_rate_2017 values\n",
      "state\n",
      "Connecticut    100\n",
      "Delaware       100\n",
      "Michigan       100\n",
      "Name: sat_participation_rate_2017, dtype: int64\n",
      "--\n",
      "States with lowest sat_participation_rate_2017 values\n",
      "state\n",
      "Iowa            2\n",
      "Mississippi     2\n",
      "North Dakota    2\n",
      "Name: sat_participation_rate_2017, dtype: int64\n",
      "\n",
      "\n",
      "States with highest sat_participation_rate_2018 values\n",
      "state\n",
      "Colorado       100\n",
      "Connecticut    100\n",
      "Delaware       100\n",
      "Idaho          100\n",
      "Michigan       100\n",
      "Name: sat_participation_rate_2018, dtype: int64\n",
      "--\n",
      "States with lowest sat_participation_rate_2018 values\n",
      "state\n",
      "North Dakota    2\n",
      "Name: sat_participation_rate_2018, dtype: int64\n",
      "\n",
      "\n",
      "States with highest act_participation_rate_2017 values\n",
      "state\n",
      "Alabama           100\n",
      "Arkansas          100\n",
      "Colorado          100\n",
      "Kentucky          100\n",
      "Louisiana         100\n",
      "Minnesota         100\n",
      "Mississippi       100\n",
      "Missouri          100\n",
      "Montana           100\n",
      "Nevada            100\n",
      "North Carolina    100\n",
      "Oklahoma          100\n",
      "South Carolina    100\n",
      "Tennessee         100\n",
      "Utah              100\n",
      "Wisconsin         100\n",
      "Wyoming           100\n",
      "Name: act_participation_rate_2017, dtype: int64\n",
      "--\n",
      "States with lowest act_participation_rate_2017 values\n",
      "state\n",
      "Maine    8\n",
      "Name: act_participation_rate_2017, dtype: int64\n",
      "\n",
      "\n",
      "States with highest act_participation_rate_2018 values\n",
      "state\n",
      "Alabama           100\n",
      "Arkansas          100\n",
      "Kentucky          100\n",
      "Louisiana         100\n",
      "Mississippi       100\n",
      "Missouri          100\n",
      "Montana           100\n",
      "Nebraska          100\n",
      "Nevada            100\n",
      "North Carolina    100\n",
      "Ohio              100\n",
      "Oklahoma          100\n",
      "South Carolina    100\n",
      "Tennessee         100\n",
      "Utah              100\n",
      "Wisconsin         100\n",
      "Wyoming           100\n",
      "Name: act_participation_rate_2018, dtype: int64\n",
      "--\n",
      "States with lowest act_participation_rate_2018 values\n",
      "state\n",
      "Maine    7\n",
      "Name: act_participation_rate_2018, dtype: int64\n",
      "\n",
      "\n"
     ]
    }
   ],
   "source": [
    "#Which states have the highest and lowest participation rates for the:\n",
    "# 2017 SAT?\n",
    "max_min('sat_participation_rate_2017')\n",
    "# 2018 SAT?\n",
    "max_min('sat_participation_rate_2018')\n",
    "# 2017 ACT?\n",
    "max_min('act_participation_rate_2017')\n",
    "# 2018 ACT?\n",
    "max_min('act_participation_rate_2018')"
   ]
  },
  {
   "cell_type": "code",
   "execution_count": 330,
   "metadata": {},
   "outputs": [
    {
     "name": "stdout",
     "output_type": "stream",
     "text": [
      "States with highest sat_composite_2017 values\n",
      "state\n",
      "Minnesota    1295\n",
      "Name: sat_composite_2017, dtype: int64\n",
      "--\n",
      "States with lowest sat_composite_2017 values\n",
      "state\n",
      "Delaware    996\n",
      "Name: sat_composite_2017, dtype: int64\n",
      "\n",
      "\n",
      "States with highest sat_composite_2018 values\n",
      "state\n",
      "Minnesota    1298\n",
      "Name: sat_composite_2018, dtype: int64\n",
      "--\n",
      "States with lowest sat_composite_2018 values\n",
      "state\n",
      "Delaware    998\n",
      "Name: sat_composite_2018, dtype: int64\n",
      "\n",
      "\n",
      "States with highest act_composite_2017 values\n",
      "state\n",
      "New Hampshire    25.5\n",
      "Name: act_composite_2017, dtype: float64\n",
      "--\n",
      "States with lowest act_composite_2017 values\n",
      "state\n",
      "Nevada    17.8\n",
      "Name: act_composite_2017, dtype: float64\n",
      "\n",
      "\n",
      "States with highest act_composite_2018 values\n",
      "state\n",
      "Connecticut    25.6\n",
      "Name: act_composite_2018, dtype: float64\n",
      "--\n",
      "States with lowest act_composite_2018 values\n",
      "state\n",
      "Nevada    17.7\n",
      "Name: act_composite_2018, dtype: float64\n",
      "\n",
      "\n"
     ]
    }
   ],
   "source": [
    "# Which states have the highest and lowest mean total/composite scores for the:\n",
    "# 2017 SAT?\n",
    "max_min('sat_composite_2017')\n",
    "# 2018 SAT?\n",
    "max_min('sat_composite_2018')\n",
    "# 2017 ACT?\n",
    "max_min('act_composite_2017')\n",
    "# 2018 ACT?\n",
    "max_min('act_composite_2018')"
   ]
  },
  {
   "cell_type": "code",
   "execution_count": 352,
   "metadata": {},
   "outputs": [],
   "source": [
    "# Do any states with 100% participation on a given test have a rate change year-to-year?\n",
    "part_rate_cols = ['sat_participation_rate_2017','sat_participation_rate_2018','act_participation_rate_2017','act_participation_rate_2018']"
   ]
  },
  {
   "cell_type": "code",
   "execution_count": 360,
   "metadata": {},
   "outputs": [
    {
     "data": {
      "text/html": [
       "<div>\n",
       "<style scoped>\n",
       "    .dataframe tbody tr th:only-of-type {\n",
       "        vertical-align: middle;\n",
       "    }\n",
       "\n",
       "    .dataframe tbody tr th {\n",
       "        vertical-align: top;\n",
       "    }\n",
       "\n",
       "    .dataframe thead th {\n",
       "        text-align: right;\n",
       "    }\n",
       "</style>\n",
       "<table border=\"1\" class=\"dataframe\">\n",
       "  <thead>\n",
       "    <tr style=\"text-align: right;\">\n",
       "      <th></th>\n",
       "      <th>sat_participation_rate_2017</th>\n",
       "      <th>sat_participation_rate_2018</th>\n",
       "    </tr>\n",
       "    <tr>\n",
       "      <th>state</th>\n",
       "      <th></th>\n",
       "      <th></th>\n",
       "    </tr>\n",
       "  </thead>\n",
       "  <tbody>\n",
       "    <tr>\n",
       "      <td>Colorado</td>\n",
       "      <td>11</td>\n",
       "      <td>100</td>\n",
       "    </tr>\n",
       "    <tr>\n",
       "      <td>Idaho</td>\n",
       "      <td>93</td>\n",
       "      <td>100</td>\n",
       "    </tr>\n",
       "  </tbody>\n",
       "</table>\n",
       "</div>"
      ],
      "text/plain": [
       "          sat_participation_rate_2017  sat_participation_rate_2018\n",
       "state                                                             \n",
       "Colorado                           11                          100\n",
       "Idaho                              93                          100"
      ]
     },
     "execution_count": 360,
     "metadata": {},
     "output_type": "execute_result"
    }
   ],
   "source": [
    "sat_part_rate_cols = ['sat_participation_rate_2017','sat_participation_rate_2018']\n",
    "sat_hundo_changed = (\n",
    "    (combined['sat_participation_rate_2017'] == 100) | (combined['sat_participation_rate_2018'] == 100)\n",
    ") & (\n",
    "    (combined['sat_participation_rate_2017']) != (combined['sat_participation_rate_2018'])\n",
    "    )\n",
    "\n",
    "combined[sat_part_rate_cols][sat_hundo_changed]"
   ]
  },
  {
   "cell_type": "code",
   "execution_count": 358,
   "metadata": {},
   "outputs": [
    {
     "data": {
      "text/html": [
       "<div>\n",
       "<style scoped>\n",
       "    .dataframe tbody tr th:only-of-type {\n",
       "        vertical-align: middle;\n",
       "    }\n",
       "\n",
       "    .dataframe tbody tr th {\n",
       "        vertical-align: top;\n",
       "    }\n",
       "\n",
       "    .dataframe thead th {\n",
       "        text-align: right;\n",
       "    }\n",
       "</style>\n",
       "<table border=\"1\" class=\"dataframe\">\n",
       "  <thead>\n",
       "    <tr style=\"text-align: right;\">\n",
       "      <th></th>\n",
       "      <th>act_participation_rate_2017</th>\n",
       "      <th>act_participation_rate_2018</th>\n",
       "    </tr>\n",
       "    <tr>\n",
       "      <th>state</th>\n",
       "      <th></th>\n",
       "      <th></th>\n",
       "    </tr>\n",
       "  </thead>\n",
       "  <tbody>\n",
       "    <tr>\n",
       "      <td>Colorado</td>\n",
       "      <td>100</td>\n",
       "      <td>30</td>\n",
       "    </tr>\n",
       "    <tr>\n",
       "      <td>Minnesota</td>\n",
       "      <td>100</td>\n",
       "      <td>99</td>\n",
       "    </tr>\n",
       "    <tr>\n",
       "      <td>Nebraska</td>\n",
       "      <td>84</td>\n",
       "      <td>100</td>\n",
       "    </tr>\n",
       "    <tr>\n",
       "      <td>Ohio</td>\n",
       "      <td>75</td>\n",
       "      <td>100</td>\n",
       "    </tr>\n",
       "  </tbody>\n",
       "</table>\n",
       "</div>"
      ],
      "text/plain": [
       "           act_participation_rate_2017  act_participation_rate_2018\n",
       "state                                                              \n",
       "Colorado                           100                           30\n",
       "Minnesota                          100                           99\n",
       "Nebraska                            84                          100\n",
       "Ohio                                75                          100"
      ]
     },
     "execution_count": 358,
     "metadata": {},
     "output_type": "execute_result"
    }
   ],
   "source": [
    "act_part_rate_cols = ['act_participation_rate_2017','act_participation_rate_2018']\n",
    "act_hundo_changed = (\n",
    "    (combined['act_participation_rate_2017'] == 100) | (combined['act_participation_rate_2018'] == 100)\n",
    ") & (\n",
    "    (combined['act_participation_rate_2017']) != (combined['act_participation_rate_2018'])\n",
    "    )\n",
    "combined[act_part_rate_cols][act_hundo_changed]"
   ]
  },
  {
   "cell_type": "code",
   "execution_count": 368,
   "metadata": {},
   "outputs": [
    {
     "data": {
      "text/html": [
       "<div>\n",
       "<style scoped>\n",
       "    .dataframe tbody tr th:only-of-type {\n",
       "        vertical-align: middle;\n",
       "    }\n",
       "\n",
       "    .dataframe tbody tr th {\n",
       "        vertical-align: top;\n",
       "    }\n",
       "\n",
       "    .dataframe thead th {\n",
       "        text-align: right;\n",
       "    }\n",
       "</style>\n",
       "<table border=\"1\" class=\"dataframe\">\n",
       "  <thead>\n",
       "    <tr style=\"text-align: right;\">\n",
       "      <th></th>\n",
       "      <th>act_participation_rate_2017</th>\n",
       "      <th>act_participation_rate_2018</th>\n",
       "      <th>sat_participation_rate_2017</th>\n",
       "      <th>sat_participation_rate_2018</th>\n",
       "    </tr>\n",
       "    <tr>\n",
       "      <th>state</th>\n",
       "      <th></th>\n",
       "      <th></th>\n",
       "      <th></th>\n",
       "      <th></th>\n",
       "    </tr>\n",
       "  </thead>\n",
       "  <tbody>\n",
       "    <tr>\n",
       "      <td>Florida</td>\n",
       "      <td>73</td>\n",
       "      <td>66</td>\n",
       "      <td>83</td>\n",
       "      <td>56</td>\n",
       "    </tr>\n",
       "    <tr>\n",
       "      <td>Georgia</td>\n",
       "      <td>55</td>\n",
       "      <td>53</td>\n",
       "      <td>61</td>\n",
       "      <td>70</td>\n",
       "    </tr>\n",
       "    <tr>\n",
       "      <td>Hawaii</td>\n",
       "      <td>90</td>\n",
       "      <td>89</td>\n",
       "      <td>55</td>\n",
       "      <td>56</td>\n",
       "    </tr>\n",
       "    <tr>\n",
       "      <td>North Carolina</td>\n",
       "      <td>100</td>\n",
       "      <td>100</td>\n",
       "      <td>49</td>\n",
       "      <td>52</td>\n",
       "    </tr>\n",
       "    <tr>\n",
       "      <td>South Carolina</td>\n",
       "      <td>100</td>\n",
       "      <td>100</td>\n",
       "      <td>50</td>\n",
       "      <td>55</td>\n",
       "    </tr>\n",
       "  </tbody>\n",
       "</table>\n",
       "</div>"
      ],
      "text/plain": [
       "                act_participation_rate_2017  act_participation_rate_2018  \\\n",
       "state                                                                      \n",
       "Florida                                  73                           66   \n",
       "Georgia                                  55                           53   \n",
       "Hawaii                                   90                           89   \n",
       "North Carolina                          100                          100   \n",
       "South Carolina                          100                          100   \n",
       "\n",
       "                sat_participation_rate_2017  sat_participation_rate_2018  \n",
       "state                                                                     \n",
       "Florida                                  83                           56  \n",
       "Georgia                                  61                           70  \n",
       "Hawaii                                   55                           56  \n",
       "North Carolina                           49                           52  \n",
       "South Carolina                           50                           55  "
      ]
     },
     "execution_count": 368,
     "metadata": {},
     "output_type": "execute_result"
    }
   ],
   "source": [
    "# Do any states show have >50% participation on both tests either year?\n",
    "more_than_50_2017 = (combined['act_participation_rate_2017'] > 50) & (combined['sat_participation_rate_2017'] > 50)\n",
    "more_than_50_2018 = (combined['act_participation_rate_2018'] > 50) & (combined['sat_participation_rate_2018'] > 50)\n",
    "combined[act_part_rate_cols + sat_part_rate_cols][more_than_50_2017 | more_than_50_2018]"
   ]
  },
  {
   "cell_type": "markdown",
   "metadata": {},
   "source": [
    "## Visualize the data\n",
    "\n",
    "There's not a magic bullet recommendation for the right number of plots to understand a given dataset, but visualizing your data is *always* a good idea. Not only does it allow you to quickly convey your findings (even if you have a non-technical audience), it will often reveal trends in your data that escaped you when you were looking only at numbers.\n",
    "\n",
    "Some recommendations on plotting:\n",
    "- Plots have titles\n",
    "- Plots have axis labels\n",
    "- Plots have appropriate tick labels\n",
    "- All text is legible in a plot\n",
    "- Plots demonstrate meaningful and valid relationships\n",
    "- Plots are interpreted to aid understanding\n",
    "\n",
    "There is such a thing as too many plots, and there are a *lot* of bad plots. You might make some! (But hopefully not with the guided prompts below)."
   ]
  },
  {
   "cell_type": "markdown",
   "metadata": {},
   "source": [
    "#### Use Seaborn's heatmap with pandas `.corr()` to visualize correlations between all numeric features\n",
    "\n",
    "Heatmaps are generally not appropriate for presentations, and should often be excluded from reports as they can be visually overwhelming. **However**, they can be extremely useful in identify relationships of potential interest (as well as identifying potential collinearity before modeling).\n",
    "\n",
    "*example*:\n",
    "```python\n",
    "sns.heatmap(df.corr())\n",
    "```\n",
    "\n",
    "Please take time to format your output, adding a title. Look through some of the additional arguments and options. (Axis labels aren't really necessary, as long as the title is informative)."
   ]
  },
  {
   "cell_type": "code",
   "execution_count": null,
   "metadata": {},
   "outputs": [],
   "source": []
  },
  {
   "cell_type": "markdown",
   "metadata": {},
   "source": [
    "#### Define a custom function to subplot histograms\n",
    "\n",
    "We have data for two tests for two years. We only have composite (and not subtest scores) for the 2018 ACT. We should write a function that will take the names of 2+ columns and subplot histograms. While you can use pandas plotting or Seaborn here, matplotlib gives you greater control over all aspects of your plots.\n",
    "\n",
    "[Helpful Link for Plotting Multiple Figures](https://matplotlib.org/users/pyplot_tutorial.html#working-with-multiple-figures-and-axes)\n",
    "\n",
    "Here's some starter code:"
   ]
  },
  {
   "cell_type": "code",
   "execution_count": null,
   "metadata": {},
   "outputs": [],
   "source": [
    "def subplot_histograms(dataframe, list_of_columns, list_of_titles, list_of_xlabels):\n",
    "    nrows = int(np.ceil(len(list_of_columns)/2)) # Makes sure you have enough rows\n",
    "    fig, ax = plt.subplots(nrows=nrows, ncols=2) # You'll want to specify your figsize\n",
    "    ax = ax.ravel() # Ravel turns a matrix into a vector, which is easier to iterate\n",
    "    for i, column in enumerate(list_of_columns): # Gives us an index value to get into all our lists\n",
    "        ax[i].hist(dataframe[column]) # feel free to add more settings\n",
    "        # Set titles, labels, etc here for each subplot"
   ]
  },
  {
   "cell_type": "markdown",
   "metadata": {},
   "source": [
    "#### Plot and interpret histograms \n",
    "For each of the following:\n",
    "- Participation rates for SAT & ACT\n",
    "- Math scores for SAT & ACT\n",
    "- Reading/verbal scores for SAT & ACT"
   ]
  },
  {
   "cell_type": "code",
   "execution_count": null,
   "metadata": {},
   "outputs": [],
   "source": [
    "# Code"
   ]
  },
  {
   "cell_type": "markdown",
   "metadata": {},
   "source": [
    "#### Plot and interpret scatter plots\n",
    "\n",
    "For each of the following:\n",
    "- SAT vs. ACT math scores for 2017\n",
    "- SAT vs. ACT verbal/reading scores for 2017\n",
    "- SAT vs. ACT total/composite scores for 2017\n",
    "- Total scores for SAT 2017 vs. 2018\n",
    "- Composite scores for ACT 2017 vs. 2018\n",
    "\n",
    "Plot the two variables against each other using matplotlib or Seaborn\n",
    "\n",
    "Your plots should show:\n",
    "- Two clearly labeled axes\n",
    "- A proper title\n",
    "- Using colors and symbols that are clear and unmistakable\n",
    "\n",
    "**Feel free to write a custom function, and subplot if you'd like.** Functions save both time and space.\n"
   ]
  },
  {
   "cell_type": "code",
   "execution_count": null,
   "metadata": {},
   "outputs": [],
   "source": [
    "# Code"
   ]
  },
  {
   "cell_type": "markdown",
   "metadata": {},
   "source": [
    "#### Plot and interpret boxplots\n",
    "\n",
    "For each numeric variable in the dataframe create a boxplot using Seaborn. Boxplots demonstrate central tendency and spread in variables. In a certain sense, these are somewhat redundant with histograms, but you may be better able to identify clear outliers or differences in IQR, etc.\n",
    "\n",
    "Multiple values can be plotted to a single boxplot as long as they are of the same relative scale (meaning they have similar min/max values).\n",
    "\n",
    "Each boxplot should:\n",
    "- Only include variables of a similar scale\n",
    "- Have clear labels for each variable\n",
    "- Have appropriate titles and labels"
   ]
  },
  {
   "cell_type": "code",
   "execution_count": null,
   "metadata": {},
   "outputs": [],
   "source": [
    "# Code"
   ]
  },
  {
   "cell_type": "markdown",
   "metadata": {},
   "source": [
    "#### Feel free to do additional plots below\n",
    "*(do research and choose your own chart types & variables)*\n",
    "\n",
    "Are there any additional trends or relationships you haven't explored? Was there something interesting you saw that you'd like to dive further into? It's likely that there are a few more plots you might want to generate to support your narrative and recommendations that you are building toward. **As always, make sure you're interpreting your plots as you go**."
   ]
  },
  {
   "cell_type": "code",
   "execution_count": null,
   "metadata": {},
   "outputs": [],
   "source": []
  },
  {
   "cell_type": "markdown",
   "metadata": {},
   "source": [
    "#### (Optional): Using Tableau, create a choropleth map for each variable using a map of the US. \n",
    "\n",
    "Save this plot as an image file in an images directory, provide a relative path, and insert the image into notebook in markdown."
   ]
  },
  {
   "cell_type": "code",
   "execution_count": null,
   "metadata": {},
   "outputs": [],
   "source": []
  },
  {
   "cell_type": "markdown",
   "metadata": {},
   "source": [
    "## Descriptive and Inferential Statistics"
   ]
  },
  {
   "cell_type": "markdown",
   "metadata": {},
   "source": [
    "#### Summarizing Distributions\n",
    "\n",
    "Above, we used pandas `describe` to provide quick summary statistics of our numeric columns. We also demonstrated many visual relationships.\n",
    "\n",
    "As data scientists, having a complete understanding of data is imperative prior to modeling.\n",
    "\n",
    "While we will continue to build our analytic tools, we know that measures of *central tendency*, *spread*, and *shape/skewness* provide a quick summary of distributions.\n",
    "\n",
    "For each variable in your data, summarize the underlying distributions (in words & statistics)\n",
    " - Be thorough in your verbal description of these distributions.\n",
    " - Be sure to back up these summaries with statistics."
   ]
  },
  {
   "cell_type": "markdown",
   "metadata": {},
   "source": [
    "Answers:"
   ]
  },
  {
   "cell_type": "markdown",
   "metadata": {},
   "source": [
    "#### We generally assuming that data we sample from a population will be normally distributed. Do we observe this trend?"
   ]
  },
  {
   "cell_type": "markdown",
   "metadata": {},
   "source": [
    "Answer:"
   ]
  },
  {
   "cell_type": "markdown",
   "metadata": {},
   "source": [
    "Does This Assumption Hold for:\n",
    "    - Math\n",
    "    - Reading\n",
    "    - Rates\n",
    "Explain your answers for each distribution and how you think this will affect estimates made from these data."
   ]
  },
  {
   "cell_type": "markdown",
   "metadata": {},
   "source": [
    "Answer:"
   ]
  },
  {
   "cell_type": "markdown",
   "metadata": {},
   "source": [
    "#### Estimate Limits of Data\n",
    "\n",
    "Suppose we only seek to understand the relationship between SAT and ACT participation rates in 2017. \n",
    "\n",
    "##### Does it make sense to conduct statistical inference given these data specifically? \n",
    "\n",
    "Why or why not?\n",
    "\n",
    "*(think about granularity, aggregation, the relationships between populations size & rates...consider the actually populations these data describe in answering this question)*"
   ]
  },
  {
   "cell_type": "markdown",
   "metadata": {},
   "source": [
    "Answer:"
   ]
  },
  {
   "cell_type": "markdown",
   "metadata": {},
   "source": [
    "##### Is it appropriate to compare *these* specific SAT and ACT math scores? \n",
    "\n",
    "Why or why not?"
   ]
  },
  {
   "cell_type": "markdown",
   "metadata": {},
   "source": [
    "Answer:"
   ]
  },
  {
   "cell_type": "markdown",
   "metadata": {},
   "source": [
    "#### Statistical Evaluation of Distributions \n",
    "\n",
    "**If you feel it's appropriate**, using methods we discussed in class, run hypothesis tests to compare variables of interest in our dataset. "
   ]
  },
  {
   "cell_type": "code",
   "execution_count": null,
   "metadata": {},
   "outputs": [],
   "source": [
    "# Code:"
   ]
  },
  {
   "cell_type": "markdown",
   "metadata": {},
   "source": [
    "## Outside Research"
   ]
  },
  {
   "cell_type": "markdown",
   "metadata": {},
   "source": [
    "Based upon your observations, choose **three** states that demonstrate interesting trends in their SAT and/or ACT participation rates. Spend some time doing outside research on state policies that might influence these rates, and summarize your findings below. **Feel free to go back and create new plots that highlight these states of interest**. If you bring in any outside tables or charts, make sure you are explicit about having borrowed them. If you quote any text, make sure that it renders as being quoted. (Make sure that you cite your sources -- check with you local instructor for citation preferences)."
   ]
  },
  {
   "cell_type": "code",
   "execution_count": null,
   "metadata": {},
   "outputs": [],
   "source": []
  },
  {
   "cell_type": "markdown",
   "metadata": {},
   "source": [
    "## Conclusions and Recommendations"
   ]
  },
  {
   "cell_type": "markdown",
   "metadata": {},
   "source": [
    "Based on your exploration of the data, what are you key takeaways and recommendations? Choose one state with a lower participation rate and provide a suggestion for how the College Board might increase participation amongst graduating seniors in this state. Are there additional data you desire that would better inform your investigations?"
   ]
  },
  {
   "cell_type": "code",
   "execution_count": null,
   "metadata": {},
   "outputs": [],
   "source": []
  }
 ],
 "metadata": {
  "anaconda-cloud": {},
  "kernelspec": {
   "display_name": "Python 3",
   "language": "python",
   "name": "python3"
  },
  "language_info": {
   "codemirror_mode": {
    "name": "ipython",
    "version": 3
   },
   "file_extension": ".py",
   "mimetype": "text/x-python",
   "name": "python",
   "nbconvert_exporter": "python",
   "pygments_lexer": "ipython3",
   "version": "3.7.3"
  }
 },
 "nbformat": 4,
 "nbformat_minor": 2
}
